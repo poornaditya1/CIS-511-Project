{
 "cells": [
  {
   "cell_type": "code",
   "execution_count": null,
   "metadata": {},
   "outputs": [],
   "source": [
    "from datasets import Dataset, load_dataset, load_metric\n",
    "from indicnlp.normalize.indic_normalize import IndicNormalizerFactory\n",
    "import re\n",
    "from tqdm import tqdm\n",
    "from transformers import T5Tokenizer, T5ForConditionalGeneration, AutoTokenizer, AutoModelForSeq2SeqLM, DataCollatorForSeq2Seq, Seq2SeqTrainingArguments, Seq2SeqTrainer\n",
    "import numpy as np\n",
    "import torch\n",
    "import nltk\n",
    "nltk.download('punkt')"
   ]
  },
  {
   "cell_type": "code",
   "execution_count": null,
   "metadata": {},
   "outputs": [],
   "source": [
    "# Downloading the dataset\n",
    "\n",
    "dataset_gujarati = load_dataset(\"csebuetnlp/xlsum\", \"gujarati\")\n",
    "dataset_hindi = load_dataset(\"csebuetnlp/xlsum\",\"hindi\")\n",
    "dataset_telugu = load_dataset(\"csebuetnlp/xlsum\",\"telugu\")"
   ]
  },
  {
   "cell_type": "code",
   "execution_count": null,
   "metadata": {},
   "outputs": [],
   "source": [
    "# Extracting the text and summary from the hindi dataset\n",
    "\n",
    "train_text_hi = dataset_hindi['train']['text'][:5000]\n",
    "train_summary_hi = dataset_hindi['train']['summary'][:5000]\n",
    "\n",
    "test_text_hi = dataset_hindi['test']['text'][:1200]\n",
    "test_summary_hi = dataset_hindi['test']['summary'][:1200]\n",
    "\n",
    "eval_text_hi = dataset_hindi['validation']['text'][:1200]\n",
    "eval_summary_hi = dataset_hindi['validation']['summary'][:1200]"
   ]
  },
  {
   "cell_type": "code",
   "execution_count": null,
   "metadata": {},
   "outputs": [],
   "source": [
    "# Extracting the text and summary from the gujarati dataset\n",
    "\n",
    "train_text_hi = dataset_hindi['train']['text'][:5000]\n",
    "train_summary_hi = dataset_hindi['train']['summary'][:5000]\n",
    "\n",
    "test_text_hi = dataset_hindi['test']['text'][:1200]\n",
    "test_summary_hi = dataset_hindi['test']['summary'][:1200]\n",
    "\n",
    "eval_text_hi = dataset_hindi['validation']['text'][:1200]\n",
    "eval_summary_hi = dataset_hindi['validation']['summary'][:1200]"
   ]
  },
  {
   "cell_type": "code",
   "execution_count": null,
   "metadata": {},
   "outputs": [],
   "source": [
    "# Extracting the text and summary from the telugu dataset\n",
    "\n",
    "train_text_te = dataset_telugu['train']['text']\n",
    "train_summary_te = dataset_telugu['train']['summary']\n",
    "\n",
    "test_text_te = dataset_telugu['test']['text']\n",
    "test_summary_te = dataset_telugu['test']['summary']\n",
    "\n",
    "eval_text_te = dataset_telugu['validation']['text']\n",
    "eval_summary_te = dataset_telugu['validation']['summary']"
   ]
  },
  {
   "cell_type": "code",
   "execution_count": null,
   "metadata": {},
   "outputs": [],
   "source": [
    "#Functions to clean and normalize the dataset\n",
    "\n",
    "def clean_gujarati_text(text):\n",
    "    factory = IndicNormalizerFactory()\n",
    "    normalizer = factory.get_normalizer(\"gu\")\n",
    "    cleaned_text = re.sub(r'[^\\u0A80-\\u0AFF0-9\\s]', '', text)\n",
    "    cleaned_text = normalizer.normalize(cleaned_text)\n",
    "\n",
    "    return cleaned_text\n",
    "\n",
    "def clean_hindi_text(text):\n",
    "    factory = IndicNormalizerFactory()\n",
    "    normalizer = factory.get_normalizer(\"hi\")\n",
    "    cleaned_text = re.sub(r'[^\\u0900-\\u097F0-9\\s]', '', text)\n",
    "    cleaned_text = normalizer.normalize(cleaned_text)\n",
    "\n",
    "    return cleaned_text\n",
    "\n",
    "def clean_telugu_text(text):\n",
    "    factory = IndicNormalizerFactory()\n",
    "    normalizer = factory.get_normalizer(\"te\")\n",
    "    cleaned_text = re.sub(r'[^\\u0C00-\\u0C7F0-9\\s]', '', text)\n",
    "    cleaned_text = normalizer.normalize(cleaned_text)\n",
    "    \n",
    "    return cleaned_text"
   ]
  },
  {
   "cell_type": "code",
   "execution_count": null,
   "metadata": {},
   "outputs": [],
   "source": [
    "# Cleaning the hindi dataset\n",
    "\n",
    "cleaned_train_text_hi = [clean_hindi_text(text) for text in train_text_hi]\n",
    "cleaned_train_summary_hi = [clean_hindi_text(text) for text in train_summary_hi]\n",
    "\n",
    "cleaned_test_text_hi = [clean_hindi_text(text) for text in test_text_hi]\n",
    "cleaned_test_summary_hi = [clean_hindi_text(text) for text in test_summary_hi]\n",
    "\n",
    "cleaned_eval_text_hi = [clean_hindi_text(text) for text in eval_text_hi]\n",
    "cleaned_eval_summary_hi = [clean_hindi_text(text) for text in eval_summary_hi]"
   ]
  },
  {
   "cell_type": "code",
   "execution_count": null,
   "metadata": {},
   "outputs": [],
   "source": [
    "# Cleaning the gujarat dataset\n",
    "\n",
    "cleaned_train_text_gj = [clean_gujarati_text(text) for text in train_text_gj]\n",
    "cleaned_train_summary_gj = [clean_gujarati_text(text) for text in train_summary_gj]\n",
    "\n",
    "cleaned_test_text_gj = [clean_gujarati_text(text) for text in test_text_gj]\n",
    "cleaned_test_summary_gj = [clean_gujarati_text(text) for text in test_summary_gj]\n",
    "\n",
    "cleaned_eval_text_gj = [clean_gujarati_text(text) for text in eval_text_gj]\n",
    "cleaned_eval_summary_gj = [clean_gujarati_text(text) for text in eval_summary_gj]"
   ]
  },
  {
   "cell_type": "code",
   "execution_count": null,
   "metadata": {},
   "outputs": [],
   "source": [
    "# Cleaning the telugu dataset\n",
    "\n",
    "cleaned_train_text_te = [clean_telugu_text(text) for text in train_text_te]\n",
    "cleaned_train_summary_te = [clean_telugu_text(text) for text in train_summary_te]\n",
    "\n",
    "cleaned_test_text_te = [clean_telugu_text(text) for text in test_text_te]\n",
    "cleaned_test_summary_te = [clean_telugu_text(text) for text in test_summary_te]\n",
    "\n",
    "cleaned_eval_text_te = [clean_telugu_text(text) for text in eval_text_te]\n",
    "cleaned_eval_summary_te = [clean_telugu_text(text) for text in eval_summary_te]"
   ]
  },
  {
   "cell_type": "code",
   "execution_count": null,
   "metadata": {},
   "outputs": [],
   "source": [
    "# Merging the cleaned data\n",
    "\n",
    "train_text = cleaned_train_text_hi + cleaned_train_text_gj + cleaned_train_text_te\n",
    "train_summary = cleaned_train_summary_hi + cleaned_train_summary_gj + cleaned_train_summary_te\n",
    "\n",
    "test_text = cleaned_test_text_hi + cleaned_test_text_gj + cleaned_test_text_te\n",
    "test_summary = cleaned_test_summary_hi + cleaned_test_summary_gj + cleaned_test_summary_te\n",
    "\n",
    "eval_text = cleaned_eval_text_hi + cleaned_eval_text_gj + cleaned_eval_text_te\n",
    "eval_summary = cleaned_eval_summary_hi + cleaned_eval_summary_gj + cleaned_eval_summary_te"
   ]
  },
  {
   "cell_type": "code",
   "execution_count": null,
   "metadata": {},
   "outputs": [],
   "source": [
    "# Creating datasets from the merged data\n",
    "\n",
    "train_dataset = Dataset.from_dict({\"text\": train_text, \"summary\": train_summary})\n",
    "test_dataset = Dataset.from_dict({\"text\": test_text, \"summary\": test_summary})\n",
    "eval_dataset = Dataset.from_dict({\"text\": eval_text, \"summary\": eval_summary})"
   ]
  },
  {
   "cell_type": "code",
   "execution_count": null,
   "metadata": {},
   "outputs": [],
   "source": [
    "# Define the model and tokenizer\n",
    "\n",
    "model_checkpoint = \"t5-base\"\n",
    "tokenizer = AutoTokenizer.from_pretrained(model_checkpoint)"
   ]
  },
  {
   "cell_type": "code",
   "execution_count": null,
   "metadata": {},
   "outputs": [],
   "source": [
    "# Function for preprocessing and tokenizing the data\n",
    "\n",
    "prefix = \"summarize: \"\n",
    "max_input_length = 512\n",
    "max_target_length = 64\n",
    "\n",
    "def preprocess_data(data):\n",
    "  texts_cleaned = data[\"text\"]\n",
    "  inputs = [prefix + text for text in texts_cleaned]\n",
    "  model_inputs = tokenizer(inputs, max_length=max_input_length, truncation=True)\n",
    "\n",
    "  # Setup the tokenizer for targets\n",
    "  with tokenizer.as_target_tokenizer():\n",
    "    labels = tokenizer(data[\"summary\"], max_length=max_target_length,\n",
    "                       truncation=True)\n",
    "\n",
    "  model_inputs[\"labels\"] = labels[\"input_ids\"]\n",
    "  return model_inputs"
   ]
  },
  {
   "cell_type": "code",
   "execution_count": null,
   "metadata": {},
   "outputs": [],
   "source": [
    "# Preprocessing and tokemizating the data\n",
    "\n",
    "tokenized_train_dataset = train_dataset.map(preprocess_data,\n",
    "                                            batched=True)\n",
    "tokenized_test_dataset = test_dataset.map(preprocess_data,\n",
    "                                          batched=True)\n",
    "tokenized_eval_dataset = eval_dataset.map(preprocess_data,\n",
    "                                          batched=True)"
   ]
  },
  {
   "cell_type": "code",
   "execution_count": null,
   "metadata": {},
   "outputs": [],
   "source": [
    "# Preparing the model arguements\n",
    "\n",
    "batch_size = 2\n",
    "model_name = \"t5-small-multilungual-summarization\"\n",
    "model_dir = \"output_dir\"\n",
    "\n",
    "args = Seq2SeqTrainingArguments(\n",
    "    model_dir,\n",
    "    evaluation_strategy=\"steps\",\n",
    "    eval_steps=100,\n",
    "    logging_strategy=\"steps\",\n",
    "    logging_steps=100,\n",
    "    save_strategy=\"steps\",\n",
    "    save_steps=200,\n",
    "    learning_rate=4e-5,\n",
    "    per_device_train_batch_size=batch_size,\n",
    "    per_device_eval_batch_size=batch_size,\n",
    "    weight_decay=0.01,\n",
    "    save_total_limit=3,\n",
    "    num_train_epochs=1,\n",
    "    predict_with_generate=True,\n",
    "    fp16=False,\n",
    "    load_best_model_at_end=True,\n",
    "    metric_for_best_model=\"rouge1\",\n",
    "    report_to=\"tensorboard\",\n",
    ")"
   ]
  },
  {
   "cell_type": "code",
   "execution_count": null,
   "metadata": {},
   "outputs": [],
   "source": [
    "data_collator = DataCollatorForSeq2Seq(tokenizer)\n",
    "metric = load_metric(\"rouge\")"
   ]
  },
  {
   "cell_type": "code",
   "execution_count": null,
   "metadata": {},
   "outputs": [],
   "source": [
    "# Defining finction for computing metrics\n",
    "\n",
    "def compute_metrics(eval_pred):\n",
    "    predictions, labels = eval_pred\n",
    "    decoded_preds = tokenizer.batch_decode(predictions, skip_special_tokens=True)\n",
    "\n",
    "    labels = np.where(labels != -100, labels, tokenizer.pad_token_id)\n",
    "    decoded_labels = tokenizer.batch_decode(labels, skip_special_tokens=True)\n",
    "\n",
    "    decoded_preds = [\"\\n\".join(nltk.sent_tokenize(pred.strip()))\n",
    "                      for pred in decoded_preds]\n",
    "    decoded_labels = [\"\\n\".join(nltk.sent_tokenize(label.strip()))\n",
    "                      for label in decoded_labels]\n",
    "\n",
    "    result = metric.compute(predictions=decoded_preds, references=decoded_labels,\n",
    "                            use_stemmer=True)\n",
    "\n",
    "    result = {key: value.mid.fmeasure * 100 for key, value in result.items()}\n",
    "\n",
    "    prediction_lens = [np.count_nonzero(pred != tokenizer.pad_token_id)\n",
    "                      for pred in predictions]\n",
    "    result[\"gen_len\"] = np.mean(prediction_lens)\n",
    "\n",
    "    return {k: round(v, 4) for k, v in result.items()}"
   ]
  },
  {
   "cell_type": "code",
   "execution_count": null,
   "metadata": {},
   "outputs": [],
   "source": [
    "# Preparing the trainer to train the model\n",
    "\n",
    "model = AutoModelForSeq2SeqLM.from_pretrained(model_checkpoint)\n",
    "\n",
    "device = torch.device(\"cuda\" if torch.cuda.is_available() else \"cpu\")\n",
    "model.to(device)\n",
    "\n",
    "trainer = Seq2SeqTrainer(\n",
    "    # model_init=model_init,\n",
    "    model=model,\n",
    "    args=args,\n",
    "    train_dataset=tokenized_train_dataset,\n",
    "    eval_dataset=tokenized_test_dataset,\n",
    "    data_collator=data_collator,\n",
    "    tokenizer=tokenizer,\n",
    "    compute_metrics=compute_metrics\n",
    ")\n",
    "\n",
    "device = torch.device(\"cuda\" if torch.cuda.is_available() else \"cpu\")\n",
    "model.to(device)\n",
    "trainer.args.device = device "
   ]
  },
  {
   "cell_type": "code",
   "execution_count": null,
   "metadata": {},
   "outputs": [],
   "source": [
    "# Train the model\n",
    "\n",
    "trainer.train()"
   ]
  }
 ],
 "metadata": {
  "language_info": {
   "name": "python"
  }
 },
 "nbformat": 4,
 "nbformat_minor": 2
}
