{
  "cells": [
    {
      "cell_type": "code",
      "execution_count": 1,
      "metadata": {
        "colab": {
          "base_uri": "https://localhost:8080/"
        },
        "id": "OQO6Y_jBRVRa",
        "outputId": "e6510308-0926-42a8-df2e-a74880b37a40"
      },
      "outputs": [
        {
          "name": "stdout",
          "output_type": "stream",
          "text": [
            "\u001b[33mDEPRECATION: Configuring installation scheme with distutils config files is deprecated and will no longer work in the near future. If you are using a Homebrew or Linuxbrew Python, please see discussion at https://github.com/Homebrew/homebrew-core/issues/76621\u001b[0m\u001b[33m\n",
            "\u001b[0mRequirement already satisfied: datasets in /opt/homebrew/lib/python3.9/site-packages (2.15.0)\n",
            "Requirement already satisfied: numpy>=1.17 in /Users/poornaditya/Library/Python/3.9/lib/python/site-packages (from datasets) (1.23.4)\n",
            "Requirement already satisfied: pyarrow>=8.0.0 in /Users/poornaditya/Library/Python/3.9/lib/python/site-packages (from datasets) (10.0.1)\n",
            "Requirement already satisfied: pyarrow-hotfix in /opt/homebrew/lib/python3.9/site-packages (from datasets) (0.6)\n",
            "Requirement already satisfied: dill<0.3.8,>=0.3.0 in /opt/homebrew/lib/python3.9/site-packages (from datasets) (0.3.7)\n",
            "Requirement already satisfied: pandas in /Users/poornaditya/Library/Python/3.9/lib/python/site-packages (from datasets) (1.5.3)\n",
            "Requirement already satisfied: requests>=2.19.0 in /Users/poornaditya/Library/Python/3.9/lib/python/site-packages (from datasets) (2.28.1)\n",
            "Requirement already satisfied: tqdm>=4.62.1 in /Users/poornaditya/Library/Python/3.9/lib/python/site-packages (from datasets) (4.64.1)\n",
            "Requirement already satisfied: xxhash in /opt/homebrew/lib/python3.9/site-packages (from datasets) (3.4.1)\n",
            "Requirement already satisfied: multiprocess in /opt/homebrew/lib/python3.9/site-packages (from datasets) (0.70.15)\n",
            "Requirement already satisfied: fsspec<=2023.10.0,>=2023.1.0 in /opt/homebrew/lib/python3.9/site-packages (from fsspec[http]<=2023.10.0,>=2023.1.0->datasets) (2023.10.0)\n",
            "Requirement already satisfied: aiohttp in /opt/homebrew/lib/python3.9/site-packages (from datasets) (3.9.1)\n",
            "Requirement already satisfied: huggingface-hub>=0.18.0 in /opt/homebrew/lib/python3.9/site-packages (from datasets) (0.19.4)\n",
            "Requirement already satisfied: packaging in /Users/poornaditya/Library/Python/3.9/lib/python/site-packages (from datasets) (23.2)\n",
            "Requirement already satisfied: pyyaml>=5.1 in /Users/poornaditya/Library/Python/3.9/lib/python/site-packages (from datasets) (6.0)\n",
            "Requirement already satisfied: attrs>=17.3.0 in /Users/poornaditya/Library/Python/3.9/lib/python/site-packages (from aiohttp->datasets) (22.1.0)\n",
            "Requirement already satisfied: multidict<7.0,>=4.5 in /opt/homebrew/lib/python3.9/site-packages (from aiohttp->datasets) (6.0.4)\n",
            "Requirement already satisfied: yarl<2.0,>=1.0 in /opt/homebrew/lib/python3.9/site-packages (from aiohttp->datasets) (1.9.4)\n",
            "Requirement already satisfied: frozenlist>=1.1.1 in /opt/homebrew/lib/python3.9/site-packages (from aiohttp->datasets) (1.4.0)\n",
            "Requirement already satisfied: aiosignal>=1.1.2 in /opt/homebrew/lib/python3.9/site-packages (from aiohttp->datasets) (1.3.1)\n",
            "Requirement already satisfied: async-timeout<5.0,>=4.0 in /opt/homebrew/lib/python3.9/site-packages (from aiohttp->datasets) (4.0.3)\n",
            "Requirement already satisfied: filelock in /Users/poornaditya/Library/Python/3.9/lib/python/site-packages (from huggingface-hub>=0.18.0->datasets) (3.12.3)\n",
            "Requirement already satisfied: typing-extensions>=3.7.4.3 in /Users/poornaditya/Library/Python/3.9/lib/python/site-packages (from huggingface-hub>=0.18.0->datasets) (4.8.0)\n",
            "Requirement already satisfied: charset-normalizer<3,>=2 in /Users/poornaditya/Library/Python/3.9/lib/python/site-packages (from requests>=2.19.0->datasets) (2.1.1)\n",
            "Requirement already satisfied: idna<4,>=2.5 in /Users/poornaditya/Library/Python/3.9/lib/python/site-packages (from requests>=2.19.0->datasets) (3.4)\n",
            "Requirement already satisfied: urllib3<1.27,>=1.21.1 in /Users/poornaditya/Library/Python/3.9/lib/python/site-packages (from requests>=2.19.0->datasets) (1.26.12)\n",
            "Requirement already satisfied: certifi>=2017.4.17 in /Users/poornaditya/Library/Python/3.9/lib/python/site-packages (from requests>=2.19.0->datasets) (2022.9.24)\n",
            "Requirement already satisfied: python-dateutil>=2.8.1 in /Users/poornaditya/Library/Python/3.9/lib/python/site-packages (from pandas->datasets) (2.8.2)\n",
            "Requirement already satisfied: pytz>=2020.1 in /Users/poornaditya/Library/Python/3.9/lib/python/site-packages (from pandas->datasets) (2022.6)\n",
            "Requirement already satisfied: six>=1.5 in /Users/poornaditya/Library/Python/3.9/lib/python/site-packages (from python-dateutil>=2.8.1->pandas->datasets) (1.16.0)\n",
            "\u001b[33mDEPRECATION: Configuring installation scheme with distutils config files is deprecated and will no longer work in the near future. If you are using a Homebrew or Linuxbrew Python, please see discussion at https://github.com/Homebrew/homebrew-core/issues/76621\u001b[0m\u001b[33m\n",
            "\u001b[0mNote: you may need to restart the kernel to use updated packages.\n",
            "\u001b[33mDEPRECATION: Configuring installation scheme with distutils config files is deprecated and will no longer work in the near future. If you are using a Homebrew or Linuxbrew Python, please see discussion at https://github.com/Homebrew/homebrew-core/issues/76621\u001b[0m\u001b[33m\n",
            "\u001b[0mRequirement already satisfied: sentencepiece in /Users/poornaditya/Library/Python/3.9/lib/python/site-packages (0.1.99)\n",
            "\u001b[33mDEPRECATION: Configuring installation scheme with distutils config files is deprecated and will no longer work in the near future. If you are using a Homebrew or Linuxbrew Python, please see discussion at https://github.com/Homebrew/homebrew-core/issues/76621\u001b[0m\u001b[33m\n",
            "\u001b[0mNote: you may need to restart the kernel to use updated packages.\n",
            "\u001b[33mDEPRECATION: Configuring installation scheme with distutils config files is deprecated and will no longer work in the near future. If you are using a Homebrew or Linuxbrew Python, please see discussion at https://github.com/Homebrew/homebrew-core/issues/76621\u001b[0m\u001b[33m\n",
            "\u001b[0mRequirement already satisfied: transformers in /Users/poornaditya/Library/Python/3.9/lib/python/site-packages (4.27.1)\n",
            "Requirement already satisfied: filelock in /Users/poornaditya/Library/Python/3.9/lib/python/site-packages (from transformers) (3.12.3)\n",
            "Requirement already satisfied: huggingface-hub<1.0,>=0.11.0 in /opt/homebrew/lib/python3.9/site-packages (from transformers) (0.19.4)\n",
            "Requirement already satisfied: numpy>=1.17 in /Users/poornaditya/Library/Python/3.9/lib/python/site-packages (from transformers) (1.23.4)\n",
            "Requirement already satisfied: packaging>=20.0 in /Users/poornaditya/Library/Python/3.9/lib/python/site-packages (from transformers) (23.2)\n",
            "Requirement already satisfied: pyyaml>=5.1 in /Users/poornaditya/Library/Python/3.9/lib/python/site-packages (from transformers) (6.0)\n",
            "Requirement already satisfied: regex!=2019.12.17 in /Users/poornaditya/Library/Python/3.9/lib/python/site-packages (from transformers) (2022.10.31)\n",
            "Requirement already satisfied: requests in /Users/poornaditya/Library/Python/3.9/lib/python/site-packages (from transformers) (2.28.1)\n",
            "Requirement already satisfied: tokenizers!=0.11.3,<0.14,>=0.11.1 in /Users/poornaditya/Library/Python/3.9/lib/python/site-packages (from transformers) (0.13.2)\n",
            "Requirement already satisfied: tqdm>=4.27 in /Users/poornaditya/Library/Python/3.9/lib/python/site-packages (from transformers) (4.64.1)\n",
            "Requirement already satisfied: fsspec>=2023.5.0 in /opt/homebrew/lib/python3.9/site-packages (from huggingface-hub<1.0,>=0.11.0->transformers) (2023.10.0)\n",
            "Requirement already satisfied: typing-extensions>=3.7.4.3 in /Users/poornaditya/Library/Python/3.9/lib/python/site-packages (from huggingface-hub<1.0,>=0.11.0->transformers) (4.8.0)\n",
            "Requirement already satisfied: charset-normalizer<3,>=2 in /Users/poornaditya/Library/Python/3.9/lib/python/site-packages (from requests->transformers) (2.1.1)\n",
            "Requirement already satisfied: idna<4,>=2.5 in /Users/poornaditya/Library/Python/3.9/lib/python/site-packages (from requests->transformers) (3.4)\n",
            "Requirement already satisfied: urllib3<1.27,>=1.21.1 in /Users/poornaditya/Library/Python/3.9/lib/python/site-packages (from requests->transformers) (1.26.12)\n",
            "Requirement already satisfied: certifi>=2017.4.17 in /Users/poornaditya/Library/Python/3.9/lib/python/site-packages (from requests->transformers) (2022.9.24)\n",
            "\u001b[33mDEPRECATION: Configuring installation scheme with distutils config files is deprecated and will no longer work in the near future. If you are using a Homebrew or Linuxbrew Python, please see discussion at https://github.com/Homebrew/homebrew-core/issues/76621\u001b[0m\u001b[33m\n",
            "\u001b[0mNote: you may need to restart the kernel to use updated packages.\n",
            "\u001b[33mDEPRECATION: Configuring installation scheme with distutils config files is deprecated and will no longer work in the near future. If you are using a Homebrew or Linuxbrew Python, please see discussion at https://github.com/Homebrew/homebrew-core/issues/76621\u001b[0m\u001b[33m\n",
            "\u001b[0mRequirement already satisfied: accelerate in /opt/homebrew/lib/python3.9/site-packages (0.25.0)\n",
            "^C\n",
            "\u001b[31mERROR: Operation cancelled by user\u001b[0m\u001b[31m\n",
            "\u001b[0mNote: you may need to restart the kernel to use updated packages.\n",
            "zsh:1: no matches found: transformers[torch]\n",
            "Note: you may need to restart the kernel to use updated packages.\n",
            "\u001b[33mDEPRECATION: Configuring installation scheme with distutils config files is deprecated and will no longer work in the near future. If you are using a Homebrew or Linuxbrew Python, please see discussion at https://github.com/Homebrew/homebrew-core/issues/76621\u001b[0m\u001b[33m\n",
            "\u001b[0mRequirement already satisfied: evaluate in /opt/homebrew/lib/python3.9/site-packages (0.4.1)\n",
            "Requirement already satisfied: datasets>=2.0.0 in /opt/homebrew/lib/python3.9/site-packages (from evaluate) (2.15.0)\n",
            "Requirement already satisfied: numpy>=1.17 in /Users/poornaditya/Library/Python/3.9/lib/python/site-packages (from evaluate) (1.23.4)\n",
            "Requirement already satisfied: dill in /opt/homebrew/lib/python3.9/site-packages (from evaluate) (0.3.7)\n",
            "Requirement already satisfied: pandas in /Users/poornaditya/Library/Python/3.9/lib/python/site-packages (from evaluate) (1.5.3)\n",
            "Requirement already satisfied: requests>=2.19.0 in /Users/poornaditya/Library/Python/3.9/lib/python/site-packages (from evaluate) (2.28.1)\n",
            "Requirement already satisfied: tqdm>=4.62.1 in /Users/poornaditya/Library/Python/3.9/lib/python/site-packages (from evaluate) (4.64.1)\n",
            "Requirement already satisfied: xxhash in /opt/homebrew/lib/python3.9/site-packages (from evaluate) (3.4.1)\n",
            "Requirement already satisfied: multiprocess in /opt/homebrew/lib/python3.9/site-packages (from evaluate) (0.70.15)\n",
            "Requirement already satisfied: fsspec>=2021.05.0 in /opt/homebrew/lib/python3.9/site-packages (from fsspec[http]>=2021.05.0->evaluate) (2023.10.0)\n",
            "Requirement already satisfied: huggingface-hub>=0.7.0 in /opt/homebrew/lib/python3.9/site-packages (from evaluate) (0.19.4)\n",
            "Requirement already satisfied: packaging in /Users/poornaditya/Library/Python/3.9/lib/python/site-packages (from evaluate) (23.2)\n",
            "Requirement already satisfied: responses<0.19 in /opt/homebrew/lib/python3.9/site-packages (from evaluate) (0.18.0)\n",
            "Requirement already satisfied: pyarrow>=8.0.0 in /Users/poornaditya/Library/Python/3.9/lib/python/site-packages (from datasets>=2.0.0->evaluate) (10.0.1)\n",
            "Requirement already satisfied: pyarrow-hotfix in /opt/homebrew/lib/python3.9/site-packages (from datasets>=2.0.0->evaluate) (0.6)\n",
            "Requirement already satisfied: aiohttp in /opt/homebrew/lib/python3.9/site-packages (from datasets>=2.0.0->evaluate) (3.9.1)\n",
            "Requirement already satisfied: pyyaml>=5.1 in /Users/poornaditya/Library/Python/3.9/lib/python/site-packages (from datasets>=2.0.0->evaluate) (6.0)\n",
            "Requirement already satisfied: filelock in /Users/poornaditya/Library/Python/3.9/lib/python/site-packages (from huggingface-hub>=0.7.0->evaluate) (3.12.3)\n",
            "Requirement already satisfied: typing-extensions>=3.7.4.3 in /Users/poornaditya/Library/Python/3.9/lib/python/site-packages (from huggingface-hub>=0.7.0->evaluate) (4.8.0)\n",
            "Requirement already satisfied: charset-normalizer<3,>=2 in /Users/poornaditya/Library/Python/3.9/lib/python/site-packages (from requests>=2.19.0->evaluate) (2.1.1)\n",
            "Requirement already satisfied: idna<4,>=2.5 in /Users/poornaditya/Library/Python/3.9/lib/python/site-packages (from requests>=2.19.0->evaluate) (3.4)\n",
            "Requirement already satisfied: urllib3<1.27,>=1.21.1 in /Users/poornaditya/Library/Python/3.9/lib/python/site-packages (from requests>=2.19.0->evaluate) (1.26.12)\n",
            "Requirement already satisfied: certifi>=2017.4.17 in /Users/poornaditya/Library/Python/3.9/lib/python/site-packages (from requests>=2.19.0->evaluate) (2022.9.24)\n",
            "Requirement already satisfied: python-dateutil>=2.8.1 in /Users/poornaditya/Library/Python/3.9/lib/python/site-packages (from pandas->evaluate) (2.8.2)\n",
            "Requirement already satisfied: pytz>=2020.1 in /Users/poornaditya/Library/Python/3.9/lib/python/site-packages (from pandas->evaluate) (2022.6)\n",
            "Requirement already satisfied: attrs>=17.3.0 in /Users/poornaditya/Library/Python/3.9/lib/python/site-packages (from aiohttp->datasets>=2.0.0->evaluate) (22.1.0)\n",
            "Requirement already satisfied: multidict<7.0,>=4.5 in /opt/homebrew/lib/python3.9/site-packages (from aiohttp->datasets>=2.0.0->evaluate) (6.0.4)\n",
            "Requirement already satisfied: yarl<2.0,>=1.0 in /opt/homebrew/lib/python3.9/site-packages (from aiohttp->datasets>=2.0.0->evaluate) (1.9.4)\n",
            "Requirement already satisfied: frozenlist>=1.1.1 in /opt/homebrew/lib/python3.9/site-packages (from aiohttp->datasets>=2.0.0->evaluate) (1.4.0)\n",
            "Requirement already satisfied: aiosignal>=1.1.2 in /opt/homebrew/lib/python3.9/site-packages (from aiohttp->datasets>=2.0.0->evaluate) (1.3.1)\n",
            "Requirement already satisfied: async-timeout<5.0,>=4.0 in /opt/homebrew/lib/python3.9/site-packages (from aiohttp->datasets>=2.0.0->evaluate) (4.0.3)\n",
            "Requirement already satisfied: six>=1.5 in /Users/poornaditya/Library/Python/3.9/lib/python/site-packages (from python-dateutil>=2.8.1->pandas->evaluate) (1.16.0)\n",
            "\u001b[33mDEPRECATION: Configuring installation scheme with distutils config files is deprecated and will no longer work in the near future. If you are using a Homebrew or Linuxbrew Python, please see discussion at https://github.com/Homebrew/homebrew-core/issues/76621\u001b[0m\u001b[33m\n",
            "\u001b[0mNote: you may need to restart the kernel to use updated packages.\n",
            "\u001b[33mDEPRECATION: Configuring installation scheme with distutils config files is deprecated and will no longer work in the near future. If you are using a Homebrew or Linuxbrew Python, please see discussion at https://github.com/Homebrew/homebrew-core/issues/76621\u001b[0m\u001b[33m\n",
            "\u001b[0mRequirement already satisfied: rouge_score in /opt/homebrew/lib/python3.9/site-packages (0.1.2)\n",
            "Requirement already satisfied: absl-py in /Users/poornaditya/Library/Python/3.9/lib/python/site-packages (from rouge_score) (1.4.0)\n",
            "Requirement already satisfied: nltk in /Users/poornaditya/Library/Python/3.9/lib/python/site-packages (from rouge_score) (3.8.1)\n",
            "Requirement already satisfied: numpy in /Users/poornaditya/Library/Python/3.9/lib/python/site-packages (from rouge_score) (1.23.4)\n",
            "Requirement already satisfied: six>=1.14.0 in /Users/poornaditya/Library/Python/3.9/lib/python/site-packages (from rouge_score) (1.16.0)\n",
            "Requirement already satisfied: click in /Users/poornaditya/Library/Python/3.9/lib/python/site-packages (from nltk->rouge_score) (8.1.3)\n",
            "Requirement already satisfied: joblib in /Users/poornaditya/Library/Python/3.9/lib/python/site-packages (from nltk->rouge_score) (1.2.0)\n",
            "Requirement already satisfied: regex>=2021.8.3 in /Users/poornaditya/Library/Python/3.9/lib/python/site-packages (from nltk->rouge_score) (2022.10.31)\n",
            "Requirement already satisfied: tqdm in /Users/poornaditya/Library/Python/3.9/lib/python/site-packages (from nltk->rouge_score) (4.64.1)\n",
            "\u001b[33mDEPRECATION: Configuring installation scheme with distutils config files is deprecated and will no longer work in the near future. If you are using a Homebrew or Linuxbrew Python, please see discussion at https://github.com/Homebrew/homebrew-core/issues/76621\u001b[0m\u001b[33m\n",
            "\u001b[0mNote: you may need to restart the kernel to use updated packages.\n",
            "\u001b[33mDEPRECATION: Configuring installation scheme with distutils config files is deprecated and will no longer work in the near future. If you are using a Homebrew or Linuxbrew Python, please see discussion at https://github.com/Homebrew/homebrew-core/issues/76621\u001b[0m\u001b[33m\n",
            "\u001b[0mRequirement already satisfied: indic-nlp-library in /opt/homebrew/lib/python3.9/site-packages (0.92)\n",
            "Requirement already satisfied: sphinx-argparse in /opt/homebrew/lib/python3.9/site-packages (from indic-nlp-library) (0.4.0)\n",
            "Requirement already satisfied: sphinx-rtd-theme in /opt/homebrew/lib/python3.9/site-packages (from indic-nlp-library) (2.0.0)\n",
            "Requirement already satisfied: morfessor in /opt/homebrew/lib/python3.9/site-packages (from indic-nlp-library) (2.0.6)\n",
            "Requirement already satisfied: pandas in /Users/poornaditya/Library/Python/3.9/lib/python/site-packages (from indic-nlp-library) (1.5.3)\n",
            "Requirement already satisfied: numpy in /Users/poornaditya/Library/Python/3.9/lib/python/site-packages (from indic-nlp-library) (1.23.4)\n",
            "Requirement already satisfied: python-dateutil>=2.8.1 in /Users/poornaditya/Library/Python/3.9/lib/python/site-packages (from pandas->indic-nlp-library) (2.8.2)\n",
            "Requirement already satisfied: pytz>=2020.1 in /Users/poornaditya/Library/Python/3.9/lib/python/site-packages (from pandas->indic-nlp-library) (2022.6)\n",
            "Requirement already satisfied: sphinx>=1.2.0 in /opt/homebrew/lib/python3.9/site-packages (from sphinx-argparse->indic-nlp-library) (7.2.6)\n",
            "Requirement already satisfied: docutils<0.21 in /opt/homebrew/lib/python3.9/site-packages (from sphinx-rtd-theme->indic-nlp-library) (0.20.1)\n",
            "Requirement already satisfied: sphinxcontrib-jquery<5,>=4 in /opt/homebrew/lib/python3.9/site-packages (from sphinx-rtd-theme->indic-nlp-library) (4.1)\n",
            "Requirement already satisfied: six>=1.5 in /Users/poornaditya/Library/Python/3.9/lib/python/site-packages (from python-dateutil>=2.8.1->pandas->indic-nlp-library) (1.16.0)\n",
            "Requirement already satisfied: sphinxcontrib-applehelp in /opt/homebrew/lib/python3.9/site-packages (from sphinx>=1.2.0->sphinx-argparse->indic-nlp-library) (1.0.7)\n",
            "Requirement already satisfied: sphinxcontrib-devhelp in /opt/homebrew/lib/python3.9/site-packages (from sphinx>=1.2.0->sphinx-argparse->indic-nlp-library) (1.0.5)\n",
            "Requirement already satisfied: sphinxcontrib-jsmath in /opt/homebrew/lib/python3.9/site-packages (from sphinx>=1.2.0->sphinx-argparse->indic-nlp-library) (1.0.1)\n",
            "Requirement already satisfied: sphinxcontrib-htmlhelp>=2.0.0 in /opt/homebrew/lib/python3.9/site-packages (from sphinx>=1.2.0->sphinx-argparse->indic-nlp-library) (2.0.4)\n",
            "Requirement already satisfied: sphinxcontrib-serializinghtml>=1.1.9 in /opt/homebrew/lib/python3.9/site-packages (from sphinx>=1.2.0->sphinx-argparse->indic-nlp-library) (1.1.9)\n",
            "Requirement already satisfied: sphinxcontrib-qthelp in /opt/homebrew/lib/python3.9/site-packages (from sphinx>=1.2.0->sphinx-argparse->indic-nlp-library) (1.0.6)\n",
            "Requirement already satisfied: Jinja2>=3.0 in /Users/poornaditya/Library/Python/3.9/lib/python/site-packages (from sphinx>=1.2.0->sphinx-argparse->indic-nlp-library) (3.1.2)\n",
            "Requirement already satisfied: Pygments>=2.14 in /Users/poornaditya/Library/Python/3.9/lib/python/site-packages (from sphinx>=1.2.0->sphinx-argparse->indic-nlp-library) (2.16.1)\n",
            "Requirement already satisfied: snowballstemmer>=2.0 in /opt/homebrew/lib/python3.9/site-packages (from sphinx>=1.2.0->sphinx-argparse->indic-nlp-library) (2.2.0)\n",
            "Requirement already satisfied: babel>=2.9 in /opt/homebrew/lib/python3.9/site-packages (from sphinx>=1.2.0->sphinx-argparse->indic-nlp-library) (2.13.1)\n",
            "Requirement already satisfied: alabaster<0.8,>=0.7 in /opt/homebrew/lib/python3.9/site-packages (from sphinx>=1.2.0->sphinx-argparse->indic-nlp-library) (0.7.13)\n",
            "Requirement already satisfied: imagesize>=1.3 in /opt/homebrew/lib/python3.9/site-packages (from sphinx>=1.2.0->sphinx-argparse->indic-nlp-library) (1.4.1)\n",
            "Requirement already satisfied: requests>=2.25.0 in /Users/poornaditya/Library/Python/3.9/lib/python/site-packages (from sphinx>=1.2.0->sphinx-argparse->indic-nlp-library) (2.28.1)\n",
            "Requirement already satisfied: packaging>=21.0 in /Users/poornaditya/Library/Python/3.9/lib/python/site-packages (from sphinx>=1.2.0->sphinx-argparse->indic-nlp-library) (23.2)\n",
            "Requirement already satisfied: importlib-metadata>=4.8 in /Users/poornaditya/Library/Python/3.9/lib/python/site-packages (from sphinx>=1.2.0->sphinx-argparse->indic-nlp-library) (6.8.0)\n",
            "Requirement already satisfied: zipp>=0.5 in /Users/poornaditya/Library/Python/3.9/lib/python/site-packages (from importlib-metadata>=4.8->sphinx>=1.2.0->sphinx-argparse->indic-nlp-library) (3.17.0)\n",
            "Requirement already satisfied: MarkupSafe>=2.0 in /Users/poornaditya/Library/Python/3.9/lib/python/site-packages (from Jinja2>=3.0->sphinx>=1.2.0->sphinx-argparse->indic-nlp-library) (2.1.1)\n",
            "Requirement already satisfied: charset-normalizer<3,>=2 in /Users/poornaditya/Library/Python/3.9/lib/python/site-packages (from requests>=2.25.0->sphinx>=1.2.0->sphinx-argparse->indic-nlp-library) (2.1.1)\n",
            "Requirement already satisfied: idna<4,>=2.5 in /Users/poornaditya/Library/Python/3.9/lib/python/site-packages (from requests>=2.25.0->sphinx>=1.2.0->sphinx-argparse->indic-nlp-library) (3.4)\n",
            "Requirement already satisfied: urllib3<1.27,>=1.21.1 in /Users/poornaditya/Library/Python/3.9/lib/python/site-packages (from requests>=2.25.0->sphinx>=1.2.0->sphinx-argparse->indic-nlp-library) (1.26.12)\n",
            "Requirement already satisfied: certifi>=2017.4.17 in /Users/poornaditya/Library/Python/3.9/lib/python/site-packages (from requests>=2.25.0->sphinx>=1.2.0->sphinx-argparse->indic-nlp-library) (2022.9.24)\n",
            "\u001b[33mDEPRECATION: Configuring installation scheme with distutils config files is deprecated and will no longer work in the near future. If you are using a Homebrew or Linuxbrew Python, please see discussion at https://github.com/Homebrew/homebrew-core/issues/76621\u001b[0m\u001b[33m\n",
            "\u001b[0mNote: you may need to restart the kernel to use updated packages.\n",
            "\u001b[33mDEPRECATION: Configuring installation scheme with distutils config files is deprecated and will no longer work in the near future. If you are using a Homebrew or Linuxbrew Python, please see discussion at https://github.com/Homebrew/homebrew-core/issues/76621\u001b[0m\u001b[33m\n",
            "\u001b[0mRequirement already satisfied: nltk in /Users/poornaditya/Library/Python/3.9/lib/python/site-packages (3.8.1)\n",
            "Requirement already satisfied: click in /Users/poornaditya/Library/Python/3.9/lib/python/site-packages (from nltk) (8.1.3)\n",
            "Requirement already satisfied: joblib in /Users/poornaditya/Library/Python/3.9/lib/python/site-packages (from nltk) (1.2.0)\n",
            "Requirement already satisfied: regex>=2021.8.3 in /Users/poornaditya/Library/Python/3.9/lib/python/site-packages (from nltk) (2022.10.31)\n",
            "Requirement already satisfied: tqdm in /Users/poornaditya/Library/Python/3.9/lib/python/site-packages (from nltk) (4.64.1)\n",
            "\u001b[33mDEPRECATION: Configuring installation scheme with distutils config files is deprecated and will no longer work in the near future. If you are using a Homebrew or Linuxbrew Python, please see discussion at https://github.com/Homebrew/homebrew-core/issues/76621\u001b[0m\u001b[33m\n",
            "\u001b[0mNote: you may need to restart the kernel to use updated packages.\n"
          ]
        }
      ],
      "source": [
        "%pip install datasets\n",
        "%pip install sentencepiece\n",
        "%pip install transformers\n",
        "%pip install accelerate -U\n",
        "%pip install transformers[torch]\n",
        "%pip install evaluate\n",
        "%pip install rouge_score\n",
        "%pip install indic-nlp-library\n",
        "%pip install nltk"
      ]
    },
    {
      "cell_type": "code",
      "execution_count": 2,
      "metadata": {
        "colab": {
          "base_uri": "https://localhost:8080/"
        },
        "id": "sIv9hHEARq8U",
        "outputId": "0b9e82ac-0b06-4804-c873-56030b47f64c"
      },
      "outputs": [
        {
          "name": "stderr",
          "output_type": "stream",
          "text": [
            "[nltk_data] Downloading package punkt to\n",
            "[nltk_data]     /Users/poornaditya/nltk_data...\n",
            "[nltk_data]   Package punkt is already up-to-date!\n"
          ]
        },
        {
          "data": {
            "text/plain": [
              "True"
            ]
          },
          "execution_count": 2,
          "metadata": {},
          "output_type": "execute_result"
        }
      ],
      "source": [
        "from datasets import Dataset\n",
        "from datasets import load_dataset\n",
        "from indicnlp.normalize.indic_normalize import IndicNormalizerFactory\n",
        "import re\n",
        "from tqdm import tqdm\n",
        "from transformers import T5Tokenizer, T5ForConditionalGeneration\n",
        "import numpy as np\n",
        "import torch\n",
        "import nltk\n",
        "nltk.download('punkt')"
      ]
    },
    {
      "cell_type": "code",
      "execution_count": 3,
      "metadata": {
        "id": "8LKjBcK4Rvik"
      },
      "outputs": [
        {
          "data": {
            "application/vnd.jupyter.widget-view+json": {
              "model_id": "d3f00644ea8d4022b33880e1eb300da1",
              "version_major": 2,
              "version_minor": 0
            },
            "text/plain": [
              "Downloading data:   0%|          | 0.00/16.6M [00:00<?, ?B/s]"
            ]
          },
          "metadata": {},
          "output_type": "display_data"
        },
        {
          "data": {
            "application/vnd.jupyter.widget-view+json": {
              "model_id": "4814cd379940486385fb35fa0892fefd",
              "version_major": 2,
              "version_minor": 0
            },
            "text/plain": [
              "Generating train split: 0 examples [00:00, ? examples/s]"
            ]
          },
          "metadata": {},
          "output_type": "display_data"
        },
        {
          "data": {
            "application/vnd.jupyter.widget-view+json": {
              "model_id": "3cdc1c9ac8e44c31ba1ff6a1557b99b2",
              "version_major": 2,
              "version_minor": 0
            },
            "text/plain": [
              "Generating test split: 0 examples [00:00, ? examples/s]"
            ]
          },
          "metadata": {},
          "output_type": "display_data"
        },
        {
          "data": {
            "application/vnd.jupyter.widget-view+json": {
              "model_id": "8a294517a01c4e57a6357815c53a18dd",
              "version_major": 2,
              "version_minor": 0
            },
            "text/plain": [
              "Generating validation split: 0 examples [00:00, ? examples/s]"
            ]
          },
          "metadata": {},
          "output_type": "display_data"
        },
        {
          "data": {
            "application/vnd.jupyter.widget-view+json": {
              "model_id": "75b3a573cc9e47c482ddd6f5877ab390",
              "version_major": 2,
              "version_minor": 0
            },
            "text/plain": [
              "Downloading data:   0%|          | 0.00/17.8M [00:00<?, ?B/s]"
            ]
          },
          "metadata": {},
          "output_type": "display_data"
        },
        {
          "data": {
            "application/vnd.jupyter.widget-view+json": {
              "model_id": "7c80d07460d94bd4a282e70f826c86e4",
              "version_major": 2,
              "version_minor": 0
            },
            "text/plain": [
              "Generating train split: 0 examples [00:00, ? examples/s]"
            ]
          },
          "metadata": {},
          "output_type": "display_data"
        },
        {
          "data": {
            "application/vnd.jupyter.widget-view+json": {
              "model_id": "5304e33e418c4837ae1f45d38d8811b0",
              "version_major": 2,
              "version_minor": 0
            },
            "text/plain": [
              "Generating test split: 0 examples [00:00, ? examples/s]"
            ]
          },
          "metadata": {},
          "output_type": "display_data"
        },
        {
          "data": {
            "application/vnd.jupyter.widget-view+json": {
              "model_id": "571d66643fde4fdaa8c4327b5991f6b2",
              "version_major": 2,
              "version_minor": 0
            },
            "text/plain": [
              "Generating validation split: 0 examples [00:00, ? examples/s]"
            ]
          },
          "metadata": {},
          "output_type": "display_data"
        }
      ],
      "source": [
        "dataset_gujarati = load_dataset(\"csebuetnlp/xlsum\", \"gujarati\")\n",
        "dataset_hindi = load_dataset(\"csebuetnlp/xlsum\",\"hindi\")\n",
        "dataset_telugu = load_dataset(\"csebuetnlp/xlsum\",\"telugu\")"
      ]
    },
    {
      "cell_type": "code",
      "execution_count": 14,
      "metadata": {},
      "outputs": [],
      "source": [
        "train_text_hi = dataset_hindi['train']['text'][:5000]\n",
        "train_summary_hi = dataset_hindi['train']['summary'][:5000]\n",
        "\n",
        "test_text_hi = dataset_hindi['test']['text'][:1200]\n",
        "test_summary_hi = dataset_hindi['test']['summary'][:1200]\n",
        "\n",
        "eval_text_hi = dataset_hindi['validation']['text'][:1200]\n",
        "eval_summary_hi = dataset_hindi['validation']['summary'][:1200]"
      ]
    },
    {
      "cell_type": "code",
      "execution_count": 15,
      "metadata": {
        "id": "w5pwV4vsR5Cq"
      },
      "outputs": [],
      "source": [
        "train_text_gj = dataset_gujarati['train']['text']\n",
        "train_summary_gj = dataset_gujarati['train']['summary']\n",
        "\n",
        "test_text_gj = dataset_gujarati['test']['text']\n",
        "test_summary_gj = dataset_gujarati['test']['summary']\n",
        "\n",
        "eval_text_gj = dataset_gujarati['validation']['text']\n",
        "eval_summary_gj = dataset_gujarati['validation']['summary']"
      ]
    },
    {
      "cell_type": "code",
      "execution_count": 16,
      "metadata": {},
      "outputs": [],
      "source": [
        "train_text_te = dataset_telugu['train']['text']\n",
        "train_summary_te = dataset_telugu['train']['summary']\n",
        "\n",
        "test_text_te = dataset_telugu['test']['text']\n",
        "test_summary_te = dataset_telugu['test']['summary']\n",
        "\n",
        "eval_text_te = dataset_telugu['validation']['text']\n",
        "eval_summary_te = dataset_telugu['validation']['summary']"
      ]
    },
    {
      "cell_type": "code",
      "execution_count": null,
      "metadata": {
        "id": "TumFPP1xSSIk"
      },
      "outputs": [],
      "source": [
        "# train_dataset = Dataset.from_dict({\"text\": train_text, \"summary\": train_summary})\n",
        "# test_dataset = Dataset.from_dict({\"text\": test_text, \"summary\": test_summary})\n",
        "\n",
        "# eval_dataset = Dataset.from_dict({\"text\": eval_text, \"summary\": eval_summary})"
      ]
    },
    {
      "cell_type": "code",
      "execution_count": 21,
      "metadata": {
        "id": "LNQYmMaaSYYu"
      },
      "outputs": [],
      "source": [
        "def clean_gujarati_text(text):\n",
        "    factory = IndicNormalizerFactory()\n",
        "    normalizer = factory.get_normalizer(\"gu\")\n",
        "    cleaned_text = re.sub(r'[^\\u0A80-\\u0AFF0-9\\s]', '', text)\n",
        "    cleaned_text = normalizer.normalize(cleaned_text)\n",
        "\n",
        "    return cleaned_text\n",
        "\n",
        "def clean_hindi_text(text):\n",
        "    factory = IndicNormalizerFactory()\n",
        "    normalizer = factory.get_normalizer(\"hi\")\n",
        "    cleaned_text = re.sub(r'[^\\u0900-\\u097F0-9\\s]', '', text)\n",
        "    cleaned_text = normalizer.normalize(cleaned_text)\n",
        "\n",
        "    return cleaned_text\n",
        "\n",
        "def clean_telugu_text(text):\n",
        "    factory = IndicNormalizerFactory()\n",
        "    normalizer = factory.get_normalizer(\"te\")\n",
        "    cleaned_text = re.sub(r'[^\\u0C00-\\u0C7F0-9\\s]', '', text)\n",
        "    cleaned_text = normalizer.normalize(cleaned_text)\n",
        "    \n",
        "    return cleaned_text"
      ]
    },
    {
      "cell_type": "code",
      "execution_count": 22,
      "metadata": {
        "id": "vi70-bySSjA0"
      },
      "outputs": [],
      "source": [
        "import evaluate\n",
        "\n",
        "rouge = evaluate.load(\"rouge\")"
      ]
    },
    {
      "cell_type": "code",
      "execution_count": 23,
      "metadata": {},
      "outputs": [],
      "source": [
        "cleaned_train_text_hi = [clean_hindi_text(text) for text in train_text_hi]\n",
        "cleaned_train_summary_hi = [clean_hindi_text(text) for text in train_summary_hi]\n",
        "\n",
        "cleaned_test_text_hi = [clean_hindi_text(text) for text in test_text_hi]\n",
        "cleaned_test_summary_hi = [clean_hindi_text(text) for text in test_summary_hi]\n",
        "\n",
        "cleaned_eval_text_hi = [clean_hindi_text(text) for text in eval_text_hi]\n",
        "cleaned_eval_summary_hi = [clean_hindi_text(text) for text in eval_summary_hi]"
      ]
    },
    {
      "cell_type": "code",
      "execution_count": 24,
      "metadata": {},
      "outputs": [],
      "source": [
        "cleaned_train_text_gj = [clean_gujarati_text(text) for text in train_text_gj]\n",
        "cleaned_train_summary_gj = [clean_gujarati_text(text) for text in train_summary_gj]\n",
        "\n",
        "cleaned_test_text_gj = [clean_gujarati_text(text) for text in test_text_gj]\n",
        "cleaned_test_summary_gj = [clean_gujarati_text(text) for text in test_summary_gj]\n",
        "\n",
        "cleaned_eval_text_gj = [clean_gujarati_text(text) for text in eval_text_gj]\n",
        "cleaned_eval_summary_gj = [clean_gujarati_text(text) for text in eval_summary_gj]"
      ]
    },
    {
      "cell_type": "code",
      "execution_count": 25,
      "metadata": {},
      "outputs": [],
      "source": [
        "cleaned_train_text_te = [clean_telugu_text(text) for text in train_text_te]\n",
        "cleaned_train_summary_te = [clean_telugu_text(text) for text in train_summary_te]\n",
        "\n",
        "cleaned_test_text_te = [clean_telugu_text(text) for text in test_text_te]\n",
        "cleaned_test_summary_te = [clean_telugu_text(text) for text in test_summary_te]\n",
        "\n",
        "cleaned_eval_text_te = [clean_telugu_text(text) for text in eval_text_te]\n",
        "cleaned_eval_summary_te = [clean_telugu_text(text) for text in eval_summary_te]"
      ]
    },
    {
      "cell_type": "code",
      "execution_count": 26,
      "metadata": {},
      "outputs": [],
      "source": [
        "train_text = cleaned_train_text_hi + cleaned_train_text_gj + cleaned_train_text_te\n",
        "train_summary = cleaned_train_summary_hi + cleaned_train_summary_gj + cleaned_train_summary_te\n",
        "\n",
        "test_text = cleaned_test_text_hi + cleaned_test_text_gj + cleaned_test_text_te\n",
        "test_summary = cleaned_test_summary_hi + cleaned_test_summary_gj + cleaned_test_summary_te\n",
        "\n",
        "eval_text = cleaned_eval_text_hi + cleaned_eval_text_gj + cleaned_eval_text_te\n",
        "eval_summary = cleaned_eval_summary_hi + cleaned_eval_summary_gj + cleaned_eval_summary_te"
      ]
    },
    {
      "cell_type": "code",
      "execution_count": 27,
      "metadata": {},
      "outputs": [
        {
          "name": "stdout",
          "output_type": "stream",
          "text": [
            "24540\n"
          ]
        }
      ],
      "source": [
        "train_dataset = Dataset.from_dict({\"text\": train_text, \"summary\": train_summary})\n",
        "test_dataset = Dataset.from_dict({\"text\": test_text, \"summary\": test_summary})\n",
        "eval_dataset = Dataset.from_dict({\"text\": eval_text, \"summary\": eval_summary})"
      ]
    },
    {
      "cell_type": "code",
      "execution_count": null,
      "metadata": {
        "id": "0M68humjSnX2"
      },
      "outputs": [],
      "source": [
        "# cleaned_train_text = [clean_gujarati_text(text) for text in train_text]\n",
        "# cleaned_train_summary = [clean_gujarati_text(summary) for summary in train_summary]\n",
        "# cleaned_test_text = [clean_gujarati_text(text) for text in test_text]\n",
        "# cleaned_test_summary = [clean_gujarati_text(summary) for summary in test_summary]\n",
        "# cleaned_eval_text = [clean_gujarati_text(text) for text in eval_text]\n",
        "# cleaned_eval_summary = [clean_gujarati_text(summary) for summary in eval_summary]\n",
        "\n",
        "# train_dataset = Dataset.from_dict({\"text\": cleaned_train_text, \"summary\": cleaned_train_summary})\n",
        "# test_dataset = Dataset.from_dict({\"text\": cleaned_test_text, \"summary\": cleaned_test_summary})\n",
        "# eval_dataset = Dataset.from_dict({\"text\": cleaned_eval_text, \"summary\": cleaned_eval_summary})"
      ]
    },
    {
      "cell_type": "code",
      "execution_count": null,
      "metadata": {
        "colab": {
          "base_uri": "https://localhost:8080/"
        },
        "id": "Fzu6mHArS3-K",
        "outputId": "5d522db4-6064-4c96-ec99-0387e8e3ea0b"
      },
      "outputs": [
        {
          "name": "stderr",
          "output_type": "stream",
          "text": [
            "/usr/local/lib/python3.10/dist-packages/transformers/models/t5/tokenization_t5_fast.py:160: FutureWarning: This tokenizer was incorrectly instantiated with a model max length of 512 which will be corrected in Transformers v5.\n",
            "For now, this behavior is kept to avoid breaking backwards compatibility when padding/encoding with `truncation is True`.\n",
            "- Be aware that you SHOULD NOT rely on t5-base automatically truncating your input to 512 when padding/encoding.\n",
            "- If you want to encode/pad to sequences longer than 512 you can either instantiate this tokenizer with `model_max_length` or pass `max_length` when encoding/padding.\n",
            "- To avoid this warning, please instantiate this tokenizer with `model_max_length` set to your preferred value.\n",
            "  warnings.warn(\n"
          ]
        }
      ],
      "source": [
        "from transformers import AutoTokenizer\n",
        "\n",
        "model_checkpoint = \"t5-base\"\n",
        "tokenizer = AutoTokenizer.from_pretrained(model_checkpoint)"
      ]
    },
    {
      "cell_type": "code",
      "execution_count": null,
      "metadata": {
        "id": "6xgFhdsuS55P"
      },
      "outputs": [],
      "source": [
        "cleaned_train_text = [clean_gujarati_text(text) for text in train_text]\n",
        "cleaned_train_summary = [clean_gujarati_text(summary) for summary in train_summary]\n",
        "cleaned_test_text = [clean_gujarati_text(text) for text in test_text]\n",
        "cleaned_test_summary = [clean_gujarati_text(summary) for summary in test_summary]\n",
        "cleaned_eval_text = [clean_gujarati_text(text) for text in eval_text]\n",
        "cleaned_eval_summary = [clean_gujarati_text(summary) for summary in eval_summary]\n",
        "\n",
        "train_dataset = Dataset.from_dict({\"text\": cleaned_train_text, \"summary\": cleaned_train_summary})\n",
        "test_dataset = Dataset.from_dict({\"text\": cleaned_test_text, \"summary\": cleaned_test_summary})\n",
        "eval_dataset = Dataset.from_dict({\"text\": cleaned_eval_text, \"summary\": cleaned_eval_summary})"
      ]
    },
    {
      "cell_type": "code",
      "execution_count": null,
      "metadata": {
        "id": "ASFdv2aSTeea"
      },
      "outputs": [],
      "source": [
        "prefix = \"summarize: \"\n",
        "max_input_length = 512\n",
        "max_target_length = 64\n",
        "\n",
        "def preprocess_data(data):\n",
        "  texts_cleaned = data[\"text\"]\n",
        "  inputs = [prefix + text for text in texts_cleaned]\n",
        "  model_inputs = tokenizer(inputs, max_length=max_input_length, truncation=True)\n",
        "\n",
        "  # Setup the tokenizer for targets\n",
        "  with tokenizer.as_target_tokenizer():\n",
        "    labels = tokenizer(data[\"summary\"], max_length=max_target_length,\n",
        "                       truncation=True)\n",
        "\n",
        "  model_inputs[\"labels\"] = labels[\"input_ids\"]\n",
        "  return model_inputs"
      ]
    },
    {
      "cell_type": "code",
      "execution_count": null,
      "metadata": {
        "colab": {
          "base_uri": "https://localhost:8080/",
          "height": 168,
          "referenced_widgets": [
            "3d5d7bb213b9460b807e60e17b7068e9",
            "46acd3d5c96b410e901a54224943a0dc",
            "84858cd0c6cd480489f1a85424a71855",
            "068eecd28d2a4d978932a028fd925028",
            "df699fd48915477f96454d8b513a84b4",
            "df968a0ba8ed400888f0803658dd3bce",
            "79ed276d15b44c458ffb8fbe8c67101c",
            "6a3272ecc8334992a30da51d989f59ad",
            "e03edc72938c424ca18a0454d783cb60",
            "029ed559e49446698d5eb74faa21fe25",
            "ac0a2ba750f64e86901ab4b625fa36b5",
            "3557d861f3a844acb2af9edce4f27543",
            "e7b30bd186b7420a8972cf9d5de0f273",
            "cc4bc7cf3f3f41cb852162e977816135",
            "b69ec662ca2d4a3a82bf7ef2f8bbb81d",
            "426e37c84f104f5b984ca7ac18992b77",
            "4f7b11184b9f42eb8ec25e8b65974d25",
            "e95f398b50db42e2b1da6d0c4cbe250f",
            "c628a3a57ace40808c236485ad684497",
            "63aa2ccc0d614e88b5d601ca6becb4d4",
            "bdc413708c18402c9e098d16e7e59812",
            "1a4192b5b9154dabad7278677e671db1",
            "83f0db6b768d42b0b4b2e17841ef1d5f",
            "acfccbf57bb64128bbfead6066bd7aa5",
            "5b32de3d27c742c09de29987eb47d6c4",
            "da406a290e02474397f7ad8e577cffdb",
            "a9799ad69b3b4bd59bffcb5a63068b9c",
            "5f2499d1a47d4f1d9e470562f1c03ba9",
            "219bf0b347c948caa7082020369d1380",
            "8b6bf561a2d944fca6b53fb43cae1fd4",
            "d1f2015df0e74c649d244855da672949",
            "9f71565862b04b86b7734c6f4bb0967f",
            "71e58a0d22994c16b7584dee233a0cfa"
          ]
        },
        "id": "_kLfBZCqTh9z",
        "outputId": "bf5aecc4-942d-45a5-fed2-9bb9f98a92e0"
      },
      "outputs": [
        {
          "data": {
            "application/vnd.jupyter.widget-view+json": {
              "model_id": "3d5d7bb213b9460b807e60e17b7068e9",
              "version_major": 2,
              "version_minor": 0
            },
            "text/plain": [
              "Map:   0%|          | 0/9119 [00:00<?, ? examples/s]"
            ]
          },
          "metadata": {},
          "output_type": "display_data"
        },
        {
          "name": "stderr",
          "output_type": "stream",
          "text": [
            "/usr/local/lib/python3.10/dist-packages/transformers/tokenization_utils_base.py:3856: UserWarning: `as_target_tokenizer` is deprecated and will be removed in v5 of Transformers. You can tokenize your labels by using the argument `text_target` of the regular `__call__` method (either in the same call as your input texts if you use the same keyword arguments, or in a separate call.\n",
            "  warnings.warn(\n"
          ]
        },
        {
          "data": {
            "application/vnd.jupyter.widget-view+json": {
              "model_id": "3557d861f3a844acb2af9edce4f27543",
              "version_major": 2,
              "version_minor": 0
            },
            "text/plain": [
              "Map:   0%|          | 0/1139 [00:00<?, ? examples/s]"
            ]
          },
          "metadata": {},
          "output_type": "display_data"
        },
        {
          "data": {
            "application/vnd.jupyter.widget-view+json": {
              "model_id": "83f0db6b768d42b0b4b2e17841ef1d5f",
              "version_major": 2,
              "version_minor": 0
            },
            "text/plain": [
              "Map:   0%|          | 0/1139 [00:00<?, ? examples/s]"
            ]
          },
          "metadata": {},
          "output_type": "display_data"
        }
      ],
      "source": [
        "tokenized_train_dataset = train_dataset.map(preprocess_data,\n",
        "                                            batched=True)\n",
        "tokenized_test_dataset = test_dataset.map(preprocess_data,\n",
        "                                          batched=True)\n",
        "tokenized_eval_dataset = eval_dataset.map(preprocess_data,\n",
        "                                          batched=True)"
      ]
    },
    {
      "cell_type": "code",
      "execution_count": null,
      "metadata": {
        "id": "dUmjGidOTqs4"
      },
      "outputs": [],
      "source": [
        "from transformers import AutoModelForSeq2SeqLM, DataCollatorForSeq2Seq, Seq2SeqTrainingArguments, Seq2SeqTrainer"
      ]
    },
    {
      "cell_type": "code",
      "execution_count": null,
      "metadata": {
        "id": "tkS8rOs1Tu9R"
      },
      "outputs": [],
      "source": [
        "batch_size = 2\n",
        "model_name = \"t5-base-medium-title-generation\"\n",
        "model_dir = \"output_dir\"\n",
        "\n",
        "args = Seq2SeqTrainingArguments(\n",
        "    model_dir,\n",
        "    evaluation_strategy=\"steps\",\n",
        "    eval_steps=100,\n",
        "    logging_strategy=\"steps\",\n",
        "    logging_steps=100,\n",
        "    save_strategy=\"steps\",\n",
        "    save_steps=200,\n",
        "    learning_rate=4e-5,\n",
        "    per_device_train_batch_size=batch_size,\n",
        "    per_device_eval_batch_size=batch_size,\n",
        "    weight_decay=0.01,\n",
        "    save_total_limit=3,\n",
        "    num_train_epochs=1,\n",
        "    predict_with_generate=True,\n",
        "    fp16=False,\n",
        "    load_best_model_at_end=True,\n",
        "    metric_for_best_model=\"rouge1\",\n",
        "    report_to=\"tensorboard\"\n",
        ")"
      ]
    },
    {
      "cell_type": "code",
      "execution_count": null,
      "metadata": {
        "id": "f2zGo4NvTy9_"
      },
      "outputs": [],
      "source": [
        "data_collator = DataCollatorForSeq2Seq(tokenizer)"
      ]
    },
    {
      "cell_type": "code",
      "execution_count": null,
      "metadata": {
        "id": "L0qjn_iVT2qT"
      },
      "outputs": [],
      "source": [
        "from datasets import load_metric\n",
        "\n",
        "metric = load_metric(\"rouge\")"
      ]
    },
    {
      "cell_type": "code",
      "execution_count": null,
      "metadata": {
        "id": "xBUMwWYyT_Q-"
      },
      "outputs": [],
      "source": [
        "import numpy as np\n",
        "\n",
        "def compute_metrics(eval_pred):\n",
        "    predictions, labels = eval_pred\n",
        "    decoded_preds = tokenizer.batch_decode(predictions, skip_special_tokens=True)\n",
        "\n",
        "    # Replace -100 in the labels as we can't decode them.\n",
        "    labels = np.where(labels != -100, labels, tokenizer.pad_token_id)\n",
        "    decoded_labels = tokenizer.batch_decode(labels, skip_special_tokens=True)\n",
        "\n",
        "    # Rouge expects a newline after each sentence\n",
        "    decoded_preds = [\"\\n\".join(nltk.sent_tokenize(pred.strip()))\n",
        "                      for pred in decoded_preds]\n",
        "    decoded_labels = [\"\\n\".join(nltk.sent_tokenize(label.strip()))\n",
        "                      for label in decoded_labels]\n",
        "\n",
        "    # Compute ROUGE scores\n",
        "    result = metric.compute(predictions=decoded_preds, references=decoded_labels,\n",
        "                            use_stemmer=True)\n",
        "\n",
        "    # Extract ROUGE f1 scores\n",
        "    result = {key: value.mid.fmeasure * 100 for key, value in result.items()}\n",
        "\n",
        "    # Add mean generated length to metrics\n",
        "    prediction_lens = [np.count_nonzero(pred != tokenizer.pad_token_id)\n",
        "                      for pred in predictions]\n",
        "    result[\"gen_len\"] = np.mean(prediction_lens)\n",
        "\n",
        "    return {k: round(v, 4) for k, v in result.items()}"
      ]
    },
    {
      "cell_type": "code",
      "execution_count": null,
      "metadata": {
        "id": "yLTh3s7iUJZ6"
      },
      "outputs": [],
      "source": [
        "def model_init():\n",
        "    return AutoModelForSeq2SeqLM.from_pretrained(model_checkpoint)\n",
        "\n",
        "model = AutoModelForSeq2SeqLM.from_pretrained(model_checkpoint)\n",
        "\n",
        "trainer = Seq2SeqTrainer(\n",
        "    model_init=model_init,\n",
        "    args=args,\n",
        "    train_dataset=tokenized_train_dataset,\n",
        "    eval_dataset=tokenized_test_dataset,\n",
        "    data_collator=data_collator,\n",
        "    tokenizer=tokenizer,\n",
        "    compute_metrics=compute_metrics\n",
        ")\n",
        "\n",
        "device = torch.device(\"cuda\" if torch.cuda.is_available() else \"cpu\")\n",
        "model.to(device)\n",
        "trainer.args.device = device  # Set Trainer device\n",
        "\n",
        "# Start training\n",
        "trainer.train()"
      ]
    },
    {
      "cell_type": "code",
      "execution_count": null,
      "metadata": {
        "colab": {
          "base_uri": "https://localhost:8080/",
          "height": 726
        },
        "id": "J04fHwOQULbx",
        "outputId": "0e60aaf5-9100-4b5a-982f-9e8342de6991"
      },
      "outputs": [
        {
          "name": "stderr",
          "output_type": "stream",
          "text": [
            "You're using a T5TokenizerFast tokenizer. Please note that with a fast tokenizer, using the `__call__` method is faster than using a method to encode the text followed by a call to the `pad` method to get a padded encoding.\n"
          ]
        },
        {
          "data": {
            "text/html": [
              "\n",
              "    <div>\n",
              "      \n",
              "      <progress value='701' max='4560' style='width:300px; height:20px; vertical-align: middle;'></progress>\n",
              "      [ 701/4560 1:24:45 < 7:47:57, 0.14 it/s, Epoch 0.15/1]\n",
              "    </div>\n",
              "    <table border=\"1\" class=\"dataframe\">\n",
              "  <thead>\n",
              " <tr style=\"text-align: left;\">\n",
              "      <th>Step</th>\n",
              "      <th>Training Loss</th>\n",
              "      <th>Validation Loss</th>\n",
              "      <th>Rouge1</th>\n",
              "      <th>Rouge2</th>\n",
              "      <th>Rougel</th>\n",
              "      <th>Rougelsum</th>\n",
              "      <th>Gen Len</th>\n",
              "    </tr>\n",
              "  </thead>\n",
              "  <tbody>\n",
              "    <tr>\n",
              "      <td>100</td>\n",
              "      <td>3.247900</td>\n",
              "      <td>1.920564</td>\n",
              "      <td>0.000000</td>\n",
              "      <td>0.000000</td>\n",
              "      <td>0.000000</td>\n",
              "      <td>0.000000</td>\n",
              "      <td>1.000000</td>\n",
              "    </tr>\n",
              "    <tr>\n",
              "      <td>200</td>\n",
              "      <td>1.896700</td>\n",
              "      <td>1.911325</td>\n",
              "      <td>0.000000</td>\n",
              "      <td>0.000000</td>\n",
              "      <td>0.000000</td>\n",
              "      <td>0.000000</td>\n",
              "      <td>1.000000</td>\n",
              "    </tr>\n",
              "    <tr>\n",
              "      <td>300</td>\n",
              "      <td>1.623700</td>\n",
              "      <td>2.105788</td>\n",
              "      <td>0.000000</td>\n",
              "      <td>0.000000</td>\n",
              "      <td>0.000000</td>\n",
              "      <td>0.000000</td>\n",
              "      <td>1.000000</td>\n",
              "    </tr>\n",
              "    <tr>\n",
              "      <td>400</td>\n",
              "      <td>1.880300</td>\n",
              "      <td>1.671188</td>\n",
              "      <td>0.000000</td>\n",
              "      <td>0.000000</td>\n",
              "      <td>0.000000</td>\n",
              "      <td>0.000000</td>\n",
              "      <td>1.000000</td>\n",
              "    </tr>\n",
              "    <tr>\n",
              "      <td>500</td>\n",
              "      <td>1.627300</td>\n",
              "      <td>1.660454</td>\n",
              "      <td>0.000000</td>\n",
              "      <td>0.000000</td>\n",
              "      <td>0.000000</td>\n",
              "      <td>0.000000</td>\n",
              "      <td>1.000000</td>\n",
              "    </tr>\n",
              "    <tr>\n",
              "      <td>600</td>\n",
              "      <td>1.875000</td>\n",
              "      <td>1.666410</td>\n",
              "      <td>0.000000</td>\n",
              "      <td>0.000000</td>\n",
              "      <td>0.000000</td>\n",
              "      <td>0.000000</td>\n",
              "      <td>1.000000</td>\n",
              "    </tr>\n",
              "  </tbody>\n",
              "</table><p>\n",
              "    <div>\n",
              "      \n",
              "      <progress value='270' max='570' style='width:300px; height:20px; vertical-align: middle;'></progress>\n",
              "      [270/570 03:10 < 03:32, 1.41 it/s]\n",
              "    </div>\n",
              "    "
            ],
            "text/plain": [
              "<IPython.core.display.HTML object>"
            ]
          },
          "metadata": {},
          "output_type": "display_data"
        },
        {
          "name": "stderr",
          "output_type": "stream",
          "text": [
            "/usr/local/lib/python3.10/dist-packages/transformers/generation/utils.py:1273: UserWarning: Using the model-agnostic default `max_length` (=20) to control the generation length. We recommend setting `max_new_tokens` to control the maximum length of the generation.\n",
            "  warnings.warn(\n",
            "/usr/local/lib/python3.10/dist-packages/transformers/generation/utils.py:1273: UserWarning: Using the model-agnostic default `max_length` (=20) to control the generation length. We recommend setting `max_new_tokens` to control the maximum length of the generation.\n",
            "  warnings.warn(\n",
            "/usr/local/lib/python3.10/dist-packages/transformers/generation/utils.py:1273: UserWarning: Using the model-agnostic default `max_length` (=20) to control the generation length. We recommend setting `max_new_tokens` to control the maximum length of the generation.\n",
            "  warnings.warn(\n",
            "/usr/local/lib/python3.10/dist-packages/transformers/generation/utils.py:1273: UserWarning: Using the model-agnostic default `max_length` (=20) to control the generation length. We recommend setting `max_new_tokens` to control the maximum length of the generation.\n",
            "  warnings.warn(\n"
          ]
        },
        {
          "data": {
            "text/html": [
              "\n",
              "    <div>\n",
              "      \n",
              "      <progress value='701' max='4560' style='width:300px; height:20px; vertical-align: middle;'></progress>\n",
              "      [ 701/4560 1:24:45 < 7:47:57, 0.14 it/s, Epoch 0.15/1]\n",
              "    </div>\n",
              "    <table border=\"1\" class=\"dataframe\">\n",
              "  <thead>\n",
              " <tr style=\"text-align: left;\">\n",
              "      <th>Step</th>\n",
              "      <th>Training Loss</th>\n",
              "      <th>Validation Loss</th>\n",
              "      <th>Rouge1</th>\n",
              "      <th>Rouge2</th>\n",
              "      <th>Rougel</th>\n",
              "      <th>Rougelsum</th>\n",
              "      <th>Gen Len</th>\n",
              "    </tr>\n",
              "  </thead>\n",
              "  <tbody>\n",
              "    <tr>\n",
              "      <td>100</td>\n",
              "      <td>3.247900</td>\n",
              "      <td>1.920564</td>\n",
              "      <td>0.000000</td>\n",
              "      <td>0.000000</td>\n",
              "      <td>0.000000</td>\n",
              "      <td>0.000000</td>\n",
              "      <td>1.000000</td>\n",
              "    </tr>\n",
              "    <tr>\n",
              "      <td>200</td>\n",
              "      <td>1.896700</td>\n",
              "      <td>1.911325</td>\n",
              "      <td>0.000000</td>\n",
              "      <td>0.000000</td>\n",
              "      <td>0.000000</td>\n",
              "      <td>0.000000</td>\n",
              "      <td>1.000000</td>\n",
              "    </tr>\n",
              "    <tr>\n",
              "      <td>300</td>\n",
              "      <td>1.623700</td>\n",
              "      <td>2.105788</td>\n",
              "      <td>0.000000</td>\n",
              "      <td>0.000000</td>\n",
              "      <td>0.000000</td>\n",
              "      <td>0.000000</td>\n",
              "      <td>1.000000</td>\n",
              "    </tr>\n",
              "    <tr>\n",
              "      <td>400</td>\n",
              "      <td>1.880300</td>\n",
              "      <td>1.671188</td>\n",
              "      <td>0.000000</td>\n",
              "      <td>0.000000</td>\n",
              "      <td>0.000000</td>\n",
              "      <td>0.000000</td>\n",
              "      <td>1.000000</td>\n",
              "    </tr>\n",
              "    <tr>\n",
              "      <td>500</td>\n",
              "      <td>1.627300</td>\n",
              "      <td>1.660454</td>\n",
              "      <td>0.000000</td>\n",
              "      <td>0.000000</td>\n",
              "      <td>0.000000</td>\n",
              "      <td>0.000000</td>\n",
              "      <td>1.000000</td>\n",
              "    </tr>\n",
              "    <tr>\n",
              "      <td>600</td>\n",
              "      <td>1.875000</td>\n",
              "      <td>1.666410</td>\n",
              "      <td>0.000000</td>\n",
              "      <td>0.000000</td>\n",
              "      <td>0.000000</td>\n",
              "      <td>0.000000</td>\n",
              "      <td>1.000000</td>\n",
              "    </tr>\n",
              "  </tbody>\n",
              "</table><p>\n",
              "    <div>\n",
              "      \n",
              "      <progress value='294' max='570' style='width:300px; height:20px; vertical-align: middle;'></progress>\n",
              "      [294/570 03:30 < 03:18, 1.39 it/s]\n",
              "    </div>\n",
              "    "
            ],
            "text/plain": [
              "<IPython.core.display.HTML object>"
            ]
          },
          "metadata": {},
          "output_type": "display_data"
        }
      ],
      "source": [
        "trainer.train()"
      ]
    }
  ],
  "metadata": {
    "colab": {
      "provenance": []
    },
    "kernelspec": {
      "display_name": "Python 3",
      "name": "python3"
    },
    "language_info": {
      "codemirror_mode": {
        "name": "ipython",
        "version": 3
      },
      "file_extension": ".py",
      "mimetype": "text/x-python",
      "name": "python",
      "nbconvert_exporter": "python",
      "pygments_lexer": "ipython3",
      "version": "3.9.13"
    },
    "widgets": {
      "application/vnd.jupyter.widget-state+json": {
        "029ed559e49446698d5eb74faa21fe25": {
          "model_module": "@jupyter-widgets/base",
          "model_module_version": "1.2.0",
          "model_name": "LayoutModel",
          "state": {
            "_model_module": "@jupyter-widgets/base",
            "_model_module_version": "1.2.0",
            "_model_name": "LayoutModel",
            "_view_count": null,
            "_view_module": "@jupyter-widgets/base",
            "_view_module_version": "1.2.0",
            "_view_name": "LayoutView",
            "align_content": null,
            "align_items": null,
            "align_self": null,
            "border": null,
            "bottom": null,
            "display": null,
            "flex": null,
            "flex_flow": null,
            "grid_area": null,
            "grid_auto_columns": null,
            "grid_auto_flow": null,
            "grid_auto_rows": null,
            "grid_column": null,
            "grid_gap": null,
            "grid_row": null,
            "grid_template_areas": null,
            "grid_template_columns": null,
            "grid_template_rows": null,
            "height": null,
            "justify_content": null,
            "justify_items": null,
            "left": null,
            "margin": null,
            "max_height": null,
            "max_width": null,
            "min_height": null,
            "min_width": null,
            "object_fit": null,
            "object_position": null,
            "order": null,
            "overflow": null,
            "overflow_x": null,
            "overflow_y": null,
            "padding": null,
            "right": null,
            "top": null,
            "visibility": null,
            "width": null
          }
        },
        "068eecd28d2a4d978932a028fd925028": {
          "model_module": "@jupyter-widgets/controls",
          "model_module_version": "1.5.0",
          "model_name": "HTMLModel",
          "state": {
            "_dom_classes": [],
            "_model_module": "@jupyter-widgets/controls",
            "_model_module_version": "1.5.0",
            "_model_name": "HTMLModel",
            "_view_count": null,
            "_view_module": "@jupyter-widgets/controls",
            "_view_module_version": "1.5.0",
            "_view_name": "HTMLView",
            "description": "",
            "description_tooltip": null,
            "layout": "IPY_MODEL_029ed559e49446698d5eb74faa21fe25",
            "placeholder": "​",
            "style": "IPY_MODEL_ac0a2ba750f64e86901ab4b625fa36b5",
            "value": " 9119/9119 [00:02&lt;00:00, 3661.35 examples/s]"
          }
        },
        "1a4192b5b9154dabad7278677e671db1": {
          "model_module": "@jupyter-widgets/controls",
          "model_module_version": "1.5.0",
          "model_name": "DescriptionStyleModel",
          "state": {
            "_model_module": "@jupyter-widgets/controls",
            "_model_module_version": "1.5.0",
            "_model_name": "DescriptionStyleModel",
            "_view_count": null,
            "_view_module": "@jupyter-widgets/base",
            "_view_module_version": "1.2.0",
            "_view_name": "StyleView",
            "description_width": ""
          }
        },
        "219bf0b347c948caa7082020369d1380": {
          "model_module": "@jupyter-widgets/controls",
          "model_module_version": "1.5.0",
          "model_name": "DescriptionStyleModel",
          "state": {
            "_model_module": "@jupyter-widgets/controls",
            "_model_module_version": "1.5.0",
            "_model_name": "DescriptionStyleModel",
            "_view_count": null,
            "_view_module": "@jupyter-widgets/base",
            "_view_module_version": "1.2.0",
            "_view_name": "StyleView",
            "description_width": ""
          }
        },
        "3557d861f3a844acb2af9edce4f27543": {
          "model_module": "@jupyter-widgets/controls",
          "model_module_version": "1.5.0",
          "model_name": "HBoxModel",
          "state": {
            "_dom_classes": [],
            "_model_module": "@jupyter-widgets/controls",
            "_model_module_version": "1.5.0",
            "_model_name": "HBoxModel",
            "_view_count": null,
            "_view_module": "@jupyter-widgets/controls",
            "_view_module_version": "1.5.0",
            "_view_name": "HBoxView",
            "box_style": "",
            "children": [
              "IPY_MODEL_e7b30bd186b7420a8972cf9d5de0f273",
              "IPY_MODEL_cc4bc7cf3f3f41cb852162e977816135",
              "IPY_MODEL_b69ec662ca2d4a3a82bf7ef2f8bbb81d"
            ],
            "layout": "IPY_MODEL_426e37c84f104f5b984ca7ac18992b77"
          }
        },
        "3d5d7bb213b9460b807e60e17b7068e9": {
          "model_module": "@jupyter-widgets/controls",
          "model_module_version": "1.5.0",
          "model_name": "HBoxModel",
          "state": {
            "_dom_classes": [],
            "_model_module": "@jupyter-widgets/controls",
            "_model_module_version": "1.5.0",
            "_model_name": "HBoxModel",
            "_view_count": null,
            "_view_module": "@jupyter-widgets/controls",
            "_view_module_version": "1.5.0",
            "_view_name": "HBoxView",
            "box_style": "",
            "children": [
              "IPY_MODEL_46acd3d5c96b410e901a54224943a0dc",
              "IPY_MODEL_84858cd0c6cd480489f1a85424a71855",
              "IPY_MODEL_068eecd28d2a4d978932a028fd925028"
            ],
            "layout": "IPY_MODEL_df699fd48915477f96454d8b513a84b4"
          }
        },
        "426e37c84f104f5b984ca7ac18992b77": {
          "model_module": "@jupyter-widgets/base",
          "model_module_version": "1.2.0",
          "model_name": "LayoutModel",
          "state": {
            "_model_module": "@jupyter-widgets/base",
            "_model_module_version": "1.2.0",
            "_model_name": "LayoutModel",
            "_view_count": null,
            "_view_module": "@jupyter-widgets/base",
            "_view_module_version": "1.2.0",
            "_view_name": "LayoutView",
            "align_content": null,
            "align_items": null,
            "align_self": null,
            "border": null,
            "bottom": null,
            "display": null,
            "flex": null,
            "flex_flow": null,
            "grid_area": null,
            "grid_auto_columns": null,
            "grid_auto_flow": null,
            "grid_auto_rows": null,
            "grid_column": null,
            "grid_gap": null,
            "grid_row": null,
            "grid_template_areas": null,
            "grid_template_columns": null,
            "grid_template_rows": null,
            "height": null,
            "justify_content": null,
            "justify_items": null,
            "left": null,
            "margin": null,
            "max_height": null,
            "max_width": null,
            "min_height": null,
            "min_width": null,
            "object_fit": null,
            "object_position": null,
            "order": null,
            "overflow": null,
            "overflow_x": null,
            "overflow_y": null,
            "padding": null,
            "right": null,
            "top": null,
            "visibility": null,
            "width": null
          }
        },
        "46acd3d5c96b410e901a54224943a0dc": {
          "model_module": "@jupyter-widgets/controls",
          "model_module_version": "1.5.0",
          "model_name": "HTMLModel",
          "state": {
            "_dom_classes": [],
            "_model_module": "@jupyter-widgets/controls",
            "_model_module_version": "1.5.0",
            "_model_name": "HTMLModel",
            "_view_count": null,
            "_view_module": "@jupyter-widgets/controls",
            "_view_module_version": "1.5.0",
            "_view_name": "HTMLView",
            "description": "",
            "description_tooltip": null,
            "layout": "IPY_MODEL_df968a0ba8ed400888f0803658dd3bce",
            "placeholder": "​",
            "style": "IPY_MODEL_79ed276d15b44c458ffb8fbe8c67101c",
            "value": "Map: 100%"
          }
        },
        "4f7b11184b9f42eb8ec25e8b65974d25": {
          "model_module": "@jupyter-widgets/base",
          "model_module_version": "1.2.0",
          "model_name": "LayoutModel",
          "state": {
            "_model_module": "@jupyter-widgets/base",
            "_model_module_version": "1.2.0",
            "_model_name": "LayoutModel",
            "_view_count": null,
            "_view_module": "@jupyter-widgets/base",
            "_view_module_version": "1.2.0",
            "_view_name": "LayoutView",
            "align_content": null,
            "align_items": null,
            "align_self": null,
            "border": null,
            "bottom": null,
            "display": null,
            "flex": null,
            "flex_flow": null,
            "grid_area": null,
            "grid_auto_columns": null,
            "grid_auto_flow": null,
            "grid_auto_rows": null,
            "grid_column": null,
            "grid_gap": null,
            "grid_row": null,
            "grid_template_areas": null,
            "grid_template_columns": null,
            "grid_template_rows": null,
            "height": null,
            "justify_content": null,
            "justify_items": null,
            "left": null,
            "margin": null,
            "max_height": null,
            "max_width": null,
            "min_height": null,
            "min_width": null,
            "object_fit": null,
            "object_position": null,
            "order": null,
            "overflow": null,
            "overflow_x": null,
            "overflow_y": null,
            "padding": null,
            "right": null,
            "top": null,
            "visibility": null,
            "width": null
          }
        },
        "5b32de3d27c742c09de29987eb47d6c4": {
          "model_module": "@jupyter-widgets/controls",
          "model_module_version": "1.5.0",
          "model_name": "FloatProgressModel",
          "state": {
            "_dom_classes": [],
            "_model_module": "@jupyter-widgets/controls",
            "_model_module_version": "1.5.0",
            "_model_name": "FloatProgressModel",
            "_view_count": null,
            "_view_module": "@jupyter-widgets/controls",
            "_view_module_version": "1.5.0",
            "_view_name": "ProgressView",
            "bar_style": "success",
            "description": "",
            "description_tooltip": null,
            "layout": "IPY_MODEL_8b6bf561a2d944fca6b53fb43cae1fd4",
            "max": 1139,
            "min": 0,
            "orientation": "horizontal",
            "style": "IPY_MODEL_d1f2015df0e74c649d244855da672949",
            "value": 1139
          }
        },
        "5f2499d1a47d4f1d9e470562f1c03ba9": {
          "model_module": "@jupyter-widgets/base",
          "model_module_version": "1.2.0",
          "model_name": "LayoutModel",
          "state": {
            "_model_module": "@jupyter-widgets/base",
            "_model_module_version": "1.2.0",
            "_model_name": "LayoutModel",
            "_view_count": null,
            "_view_module": "@jupyter-widgets/base",
            "_view_module_version": "1.2.0",
            "_view_name": "LayoutView",
            "align_content": null,
            "align_items": null,
            "align_self": null,
            "border": null,
            "bottom": null,
            "display": null,
            "flex": null,
            "flex_flow": null,
            "grid_area": null,
            "grid_auto_columns": null,
            "grid_auto_flow": null,
            "grid_auto_rows": null,
            "grid_column": null,
            "grid_gap": null,
            "grid_row": null,
            "grid_template_areas": null,
            "grid_template_columns": null,
            "grid_template_rows": null,
            "height": null,
            "justify_content": null,
            "justify_items": null,
            "left": null,
            "margin": null,
            "max_height": null,
            "max_width": null,
            "min_height": null,
            "min_width": null,
            "object_fit": null,
            "object_position": null,
            "order": null,
            "overflow": null,
            "overflow_x": null,
            "overflow_y": null,
            "padding": null,
            "right": null,
            "top": null,
            "visibility": null,
            "width": null
          }
        },
        "63aa2ccc0d614e88b5d601ca6becb4d4": {
          "model_module": "@jupyter-widgets/controls",
          "model_module_version": "1.5.0",
          "model_name": "ProgressStyleModel",
          "state": {
            "_model_module": "@jupyter-widgets/controls",
            "_model_module_version": "1.5.0",
            "_model_name": "ProgressStyleModel",
            "_view_count": null,
            "_view_module": "@jupyter-widgets/base",
            "_view_module_version": "1.2.0",
            "_view_name": "StyleView",
            "bar_color": null,
            "description_width": ""
          }
        },
        "6a3272ecc8334992a30da51d989f59ad": {
          "model_module": "@jupyter-widgets/base",
          "model_module_version": "1.2.0",
          "model_name": "LayoutModel",
          "state": {
            "_model_module": "@jupyter-widgets/base",
            "_model_module_version": "1.2.0",
            "_model_name": "LayoutModel",
            "_view_count": null,
            "_view_module": "@jupyter-widgets/base",
            "_view_module_version": "1.2.0",
            "_view_name": "LayoutView",
            "align_content": null,
            "align_items": null,
            "align_self": null,
            "border": null,
            "bottom": null,
            "display": null,
            "flex": null,
            "flex_flow": null,
            "grid_area": null,
            "grid_auto_columns": null,
            "grid_auto_flow": null,
            "grid_auto_rows": null,
            "grid_column": null,
            "grid_gap": null,
            "grid_row": null,
            "grid_template_areas": null,
            "grid_template_columns": null,
            "grid_template_rows": null,
            "height": null,
            "justify_content": null,
            "justify_items": null,
            "left": null,
            "margin": null,
            "max_height": null,
            "max_width": null,
            "min_height": null,
            "min_width": null,
            "object_fit": null,
            "object_position": null,
            "order": null,
            "overflow": null,
            "overflow_x": null,
            "overflow_y": null,
            "padding": null,
            "right": null,
            "top": null,
            "visibility": null,
            "width": null
          }
        },
        "71e58a0d22994c16b7584dee233a0cfa": {
          "model_module": "@jupyter-widgets/controls",
          "model_module_version": "1.5.0",
          "model_name": "DescriptionStyleModel",
          "state": {
            "_model_module": "@jupyter-widgets/controls",
            "_model_module_version": "1.5.0",
            "_model_name": "DescriptionStyleModel",
            "_view_count": null,
            "_view_module": "@jupyter-widgets/base",
            "_view_module_version": "1.2.0",
            "_view_name": "StyleView",
            "description_width": ""
          }
        },
        "79ed276d15b44c458ffb8fbe8c67101c": {
          "model_module": "@jupyter-widgets/controls",
          "model_module_version": "1.5.0",
          "model_name": "DescriptionStyleModel",
          "state": {
            "_model_module": "@jupyter-widgets/controls",
            "_model_module_version": "1.5.0",
            "_model_name": "DescriptionStyleModel",
            "_view_count": null,
            "_view_module": "@jupyter-widgets/base",
            "_view_module_version": "1.2.0",
            "_view_name": "StyleView",
            "description_width": ""
          }
        },
        "83f0db6b768d42b0b4b2e17841ef1d5f": {
          "model_module": "@jupyter-widgets/controls",
          "model_module_version": "1.5.0",
          "model_name": "HBoxModel",
          "state": {
            "_dom_classes": [],
            "_model_module": "@jupyter-widgets/controls",
            "_model_module_version": "1.5.0",
            "_model_name": "HBoxModel",
            "_view_count": null,
            "_view_module": "@jupyter-widgets/controls",
            "_view_module_version": "1.5.0",
            "_view_name": "HBoxView",
            "box_style": "",
            "children": [
              "IPY_MODEL_acfccbf57bb64128bbfead6066bd7aa5",
              "IPY_MODEL_5b32de3d27c742c09de29987eb47d6c4",
              "IPY_MODEL_da406a290e02474397f7ad8e577cffdb"
            ],
            "layout": "IPY_MODEL_a9799ad69b3b4bd59bffcb5a63068b9c"
          }
        },
        "84858cd0c6cd480489f1a85424a71855": {
          "model_module": "@jupyter-widgets/controls",
          "model_module_version": "1.5.0",
          "model_name": "FloatProgressModel",
          "state": {
            "_dom_classes": [],
            "_model_module": "@jupyter-widgets/controls",
            "_model_module_version": "1.5.0",
            "_model_name": "FloatProgressModel",
            "_view_count": null,
            "_view_module": "@jupyter-widgets/controls",
            "_view_module_version": "1.5.0",
            "_view_name": "ProgressView",
            "bar_style": "success",
            "description": "",
            "description_tooltip": null,
            "layout": "IPY_MODEL_6a3272ecc8334992a30da51d989f59ad",
            "max": 9119,
            "min": 0,
            "orientation": "horizontal",
            "style": "IPY_MODEL_e03edc72938c424ca18a0454d783cb60",
            "value": 9119
          }
        },
        "8b6bf561a2d944fca6b53fb43cae1fd4": {
          "model_module": "@jupyter-widgets/base",
          "model_module_version": "1.2.0",
          "model_name": "LayoutModel",
          "state": {
            "_model_module": "@jupyter-widgets/base",
            "_model_module_version": "1.2.0",
            "_model_name": "LayoutModel",
            "_view_count": null,
            "_view_module": "@jupyter-widgets/base",
            "_view_module_version": "1.2.0",
            "_view_name": "LayoutView",
            "align_content": null,
            "align_items": null,
            "align_self": null,
            "border": null,
            "bottom": null,
            "display": null,
            "flex": null,
            "flex_flow": null,
            "grid_area": null,
            "grid_auto_columns": null,
            "grid_auto_flow": null,
            "grid_auto_rows": null,
            "grid_column": null,
            "grid_gap": null,
            "grid_row": null,
            "grid_template_areas": null,
            "grid_template_columns": null,
            "grid_template_rows": null,
            "height": null,
            "justify_content": null,
            "justify_items": null,
            "left": null,
            "margin": null,
            "max_height": null,
            "max_width": null,
            "min_height": null,
            "min_width": null,
            "object_fit": null,
            "object_position": null,
            "order": null,
            "overflow": null,
            "overflow_x": null,
            "overflow_y": null,
            "padding": null,
            "right": null,
            "top": null,
            "visibility": null,
            "width": null
          }
        },
        "9f71565862b04b86b7734c6f4bb0967f": {
          "model_module": "@jupyter-widgets/base",
          "model_module_version": "1.2.0",
          "model_name": "LayoutModel",
          "state": {
            "_model_module": "@jupyter-widgets/base",
            "_model_module_version": "1.2.0",
            "_model_name": "LayoutModel",
            "_view_count": null,
            "_view_module": "@jupyter-widgets/base",
            "_view_module_version": "1.2.0",
            "_view_name": "LayoutView",
            "align_content": null,
            "align_items": null,
            "align_self": null,
            "border": null,
            "bottom": null,
            "display": null,
            "flex": null,
            "flex_flow": null,
            "grid_area": null,
            "grid_auto_columns": null,
            "grid_auto_flow": null,
            "grid_auto_rows": null,
            "grid_column": null,
            "grid_gap": null,
            "grid_row": null,
            "grid_template_areas": null,
            "grid_template_columns": null,
            "grid_template_rows": null,
            "height": null,
            "justify_content": null,
            "justify_items": null,
            "left": null,
            "margin": null,
            "max_height": null,
            "max_width": null,
            "min_height": null,
            "min_width": null,
            "object_fit": null,
            "object_position": null,
            "order": null,
            "overflow": null,
            "overflow_x": null,
            "overflow_y": null,
            "padding": null,
            "right": null,
            "top": null,
            "visibility": null,
            "width": null
          }
        },
        "a9799ad69b3b4bd59bffcb5a63068b9c": {
          "model_module": "@jupyter-widgets/base",
          "model_module_version": "1.2.0",
          "model_name": "LayoutModel",
          "state": {
            "_model_module": "@jupyter-widgets/base",
            "_model_module_version": "1.2.0",
            "_model_name": "LayoutModel",
            "_view_count": null,
            "_view_module": "@jupyter-widgets/base",
            "_view_module_version": "1.2.0",
            "_view_name": "LayoutView",
            "align_content": null,
            "align_items": null,
            "align_self": null,
            "border": null,
            "bottom": null,
            "display": null,
            "flex": null,
            "flex_flow": null,
            "grid_area": null,
            "grid_auto_columns": null,
            "grid_auto_flow": null,
            "grid_auto_rows": null,
            "grid_column": null,
            "grid_gap": null,
            "grid_row": null,
            "grid_template_areas": null,
            "grid_template_columns": null,
            "grid_template_rows": null,
            "height": null,
            "justify_content": null,
            "justify_items": null,
            "left": null,
            "margin": null,
            "max_height": null,
            "max_width": null,
            "min_height": null,
            "min_width": null,
            "object_fit": null,
            "object_position": null,
            "order": null,
            "overflow": null,
            "overflow_x": null,
            "overflow_y": null,
            "padding": null,
            "right": null,
            "top": null,
            "visibility": null,
            "width": null
          }
        },
        "ac0a2ba750f64e86901ab4b625fa36b5": {
          "model_module": "@jupyter-widgets/controls",
          "model_module_version": "1.5.0",
          "model_name": "DescriptionStyleModel",
          "state": {
            "_model_module": "@jupyter-widgets/controls",
            "_model_module_version": "1.5.0",
            "_model_name": "DescriptionStyleModel",
            "_view_count": null,
            "_view_module": "@jupyter-widgets/base",
            "_view_module_version": "1.2.0",
            "_view_name": "StyleView",
            "description_width": ""
          }
        },
        "acfccbf57bb64128bbfead6066bd7aa5": {
          "model_module": "@jupyter-widgets/controls",
          "model_module_version": "1.5.0",
          "model_name": "HTMLModel",
          "state": {
            "_dom_classes": [],
            "_model_module": "@jupyter-widgets/controls",
            "_model_module_version": "1.5.0",
            "_model_name": "HTMLModel",
            "_view_count": null,
            "_view_module": "@jupyter-widgets/controls",
            "_view_module_version": "1.5.0",
            "_view_name": "HTMLView",
            "description": "",
            "description_tooltip": null,
            "layout": "IPY_MODEL_5f2499d1a47d4f1d9e470562f1c03ba9",
            "placeholder": "​",
            "style": "IPY_MODEL_219bf0b347c948caa7082020369d1380",
            "value": "Map: 100%"
          }
        },
        "b69ec662ca2d4a3a82bf7ef2f8bbb81d": {
          "model_module": "@jupyter-widgets/controls",
          "model_module_version": "1.5.0",
          "model_name": "HTMLModel",
          "state": {
            "_dom_classes": [],
            "_model_module": "@jupyter-widgets/controls",
            "_model_module_version": "1.5.0",
            "_model_name": "HTMLModel",
            "_view_count": null,
            "_view_module": "@jupyter-widgets/controls",
            "_view_module_version": "1.5.0",
            "_view_name": "HTMLView",
            "description": "",
            "description_tooltip": null,
            "layout": "IPY_MODEL_bdc413708c18402c9e098d16e7e59812",
            "placeholder": "​",
            "style": "IPY_MODEL_1a4192b5b9154dabad7278677e671db1",
            "value": " 1139/1139 [00:00&lt;00:00, 3509.19 examples/s]"
          }
        },
        "bdc413708c18402c9e098d16e7e59812": {
          "model_module": "@jupyter-widgets/base",
          "model_module_version": "1.2.0",
          "model_name": "LayoutModel",
          "state": {
            "_model_module": "@jupyter-widgets/base",
            "_model_module_version": "1.2.0",
            "_model_name": "LayoutModel",
            "_view_count": null,
            "_view_module": "@jupyter-widgets/base",
            "_view_module_version": "1.2.0",
            "_view_name": "LayoutView",
            "align_content": null,
            "align_items": null,
            "align_self": null,
            "border": null,
            "bottom": null,
            "display": null,
            "flex": null,
            "flex_flow": null,
            "grid_area": null,
            "grid_auto_columns": null,
            "grid_auto_flow": null,
            "grid_auto_rows": null,
            "grid_column": null,
            "grid_gap": null,
            "grid_row": null,
            "grid_template_areas": null,
            "grid_template_columns": null,
            "grid_template_rows": null,
            "height": null,
            "justify_content": null,
            "justify_items": null,
            "left": null,
            "margin": null,
            "max_height": null,
            "max_width": null,
            "min_height": null,
            "min_width": null,
            "object_fit": null,
            "object_position": null,
            "order": null,
            "overflow": null,
            "overflow_x": null,
            "overflow_y": null,
            "padding": null,
            "right": null,
            "top": null,
            "visibility": null,
            "width": null
          }
        },
        "c628a3a57ace40808c236485ad684497": {
          "model_module": "@jupyter-widgets/base",
          "model_module_version": "1.2.0",
          "model_name": "LayoutModel",
          "state": {
            "_model_module": "@jupyter-widgets/base",
            "_model_module_version": "1.2.0",
            "_model_name": "LayoutModel",
            "_view_count": null,
            "_view_module": "@jupyter-widgets/base",
            "_view_module_version": "1.2.0",
            "_view_name": "LayoutView",
            "align_content": null,
            "align_items": null,
            "align_self": null,
            "border": null,
            "bottom": null,
            "display": null,
            "flex": null,
            "flex_flow": null,
            "grid_area": null,
            "grid_auto_columns": null,
            "grid_auto_flow": null,
            "grid_auto_rows": null,
            "grid_column": null,
            "grid_gap": null,
            "grid_row": null,
            "grid_template_areas": null,
            "grid_template_columns": null,
            "grid_template_rows": null,
            "height": null,
            "justify_content": null,
            "justify_items": null,
            "left": null,
            "margin": null,
            "max_height": null,
            "max_width": null,
            "min_height": null,
            "min_width": null,
            "object_fit": null,
            "object_position": null,
            "order": null,
            "overflow": null,
            "overflow_x": null,
            "overflow_y": null,
            "padding": null,
            "right": null,
            "top": null,
            "visibility": null,
            "width": null
          }
        },
        "cc4bc7cf3f3f41cb852162e977816135": {
          "model_module": "@jupyter-widgets/controls",
          "model_module_version": "1.5.0",
          "model_name": "FloatProgressModel",
          "state": {
            "_dom_classes": [],
            "_model_module": "@jupyter-widgets/controls",
            "_model_module_version": "1.5.0",
            "_model_name": "FloatProgressModel",
            "_view_count": null,
            "_view_module": "@jupyter-widgets/controls",
            "_view_module_version": "1.5.0",
            "_view_name": "ProgressView",
            "bar_style": "success",
            "description": "",
            "description_tooltip": null,
            "layout": "IPY_MODEL_c628a3a57ace40808c236485ad684497",
            "max": 1139,
            "min": 0,
            "orientation": "horizontal",
            "style": "IPY_MODEL_63aa2ccc0d614e88b5d601ca6becb4d4",
            "value": 1139
          }
        },
        "d1f2015df0e74c649d244855da672949": {
          "model_module": "@jupyter-widgets/controls",
          "model_module_version": "1.5.0",
          "model_name": "ProgressStyleModel",
          "state": {
            "_model_module": "@jupyter-widgets/controls",
            "_model_module_version": "1.5.0",
            "_model_name": "ProgressStyleModel",
            "_view_count": null,
            "_view_module": "@jupyter-widgets/base",
            "_view_module_version": "1.2.0",
            "_view_name": "StyleView",
            "bar_color": null,
            "description_width": ""
          }
        },
        "da406a290e02474397f7ad8e577cffdb": {
          "model_module": "@jupyter-widgets/controls",
          "model_module_version": "1.5.0",
          "model_name": "HTMLModel",
          "state": {
            "_dom_classes": [],
            "_model_module": "@jupyter-widgets/controls",
            "_model_module_version": "1.5.0",
            "_model_name": "HTMLModel",
            "_view_count": null,
            "_view_module": "@jupyter-widgets/controls",
            "_view_module_version": "1.5.0",
            "_view_name": "HTMLView",
            "description": "",
            "description_tooltip": null,
            "layout": "IPY_MODEL_9f71565862b04b86b7734c6f4bb0967f",
            "placeholder": "​",
            "style": "IPY_MODEL_71e58a0d22994c16b7584dee233a0cfa",
            "value": " 1139/1139 [00:00&lt;00:00, 3479.57 examples/s]"
          }
        },
        "df699fd48915477f96454d8b513a84b4": {
          "model_module": "@jupyter-widgets/base",
          "model_module_version": "1.2.0",
          "model_name": "LayoutModel",
          "state": {
            "_model_module": "@jupyter-widgets/base",
            "_model_module_version": "1.2.0",
            "_model_name": "LayoutModel",
            "_view_count": null,
            "_view_module": "@jupyter-widgets/base",
            "_view_module_version": "1.2.0",
            "_view_name": "LayoutView",
            "align_content": null,
            "align_items": null,
            "align_self": null,
            "border": null,
            "bottom": null,
            "display": null,
            "flex": null,
            "flex_flow": null,
            "grid_area": null,
            "grid_auto_columns": null,
            "grid_auto_flow": null,
            "grid_auto_rows": null,
            "grid_column": null,
            "grid_gap": null,
            "grid_row": null,
            "grid_template_areas": null,
            "grid_template_columns": null,
            "grid_template_rows": null,
            "height": null,
            "justify_content": null,
            "justify_items": null,
            "left": null,
            "margin": null,
            "max_height": null,
            "max_width": null,
            "min_height": null,
            "min_width": null,
            "object_fit": null,
            "object_position": null,
            "order": null,
            "overflow": null,
            "overflow_x": null,
            "overflow_y": null,
            "padding": null,
            "right": null,
            "top": null,
            "visibility": null,
            "width": null
          }
        },
        "df968a0ba8ed400888f0803658dd3bce": {
          "model_module": "@jupyter-widgets/base",
          "model_module_version": "1.2.0",
          "model_name": "LayoutModel",
          "state": {
            "_model_module": "@jupyter-widgets/base",
            "_model_module_version": "1.2.0",
            "_model_name": "LayoutModel",
            "_view_count": null,
            "_view_module": "@jupyter-widgets/base",
            "_view_module_version": "1.2.0",
            "_view_name": "LayoutView",
            "align_content": null,
            "align_items": null,
            "align_self": null,
            "border": null,
            "bottom": null,
            "display": null,
            "flex": null,
            "flex_flow": null,
            "grid_area": null,
            "grid_auto_columns": null,
            "grid_auto_flow": null,
            "grid_auto_rows": null,
            "grid_column": null,
            "grid_gap": null,
            "grid_row": null,
            "grid_template_areas": null,
            "grid_template_columns": null,
            "grid_template_rows": null,
            "height": null,
            "justify_content": null,
            "justify_items": null,
            "left": null,
            "margin": null,
            "max_height": null,
            "max_width": null,
            "min_height": null,
            "min_width": null,
            "object_fit": null,
            "object_position": null,
            "order": null,
            "overflow": null,
            "overflow_x": null,
            "overflow_y": null,
            "padding": null,
            "right": null,
            "top": null,
            "visibility": null,
            "width": null
          }
        },
        "e03edc72938c424ca18a0454d783cb60": {
          "model_module": "@jupyter-widgets/controls",
          "model_module_version": "1.5.0",
          "model_name": "ProgressStyleModel",
          "state": {
            "_model_module": "@jupyter-widgets/controls",
            "_model_module_version": "1.5.0",
            "_model_name": "ProgressStyleModel",
            "_view_count": null,
            "_view_module": "@jupyter-widgets/base",
            "_view_module_version": "1.2.0",
            "_view_name": "StyleView",
            "bar_color": null,
            "description_width": ""
          }
        },
        "e7b30bd186b7420a8972cf9d5de0f273": {
          "model_module": "@jupyter-widgets/controls",
          "model_module_version": "1.5.0",
          "model_name": "HTMLModel",
          "state": {
            "_dom_classes": [],
            "_model_module": "@jupyter-widgets/controls",
            "_model_module_version": "1.5.0",
            "_model_name": "HTMLModel",
            "_view_count": null,
            "_view_module": "@jupyter-widgets/controls",
            "_view_module_version": "1.5.0",
            "_view_name": "HTMLView",
            "description": "",
            "description_tooltip": null,
            "layout": "IPY_MODEL_4f7b11184b9f42eb8ec25e8b65974d25",
            "placeholder": "​",
            "style": "IPY_MODEL_e95f398b50db42e2b1da6d0c4cbe250f",
            "value": "Map: 100%"
          }
        },
        "e95f398b50db42e2b1da6d0c4cbe250f": {
          "model_module": "@jupyter-widgets/controls",
          "model_module_version": "1.5.0",
          "model_name": "DescriptionStyleModel",
          "state": {
            "_model_module": "@jupyter-widgets/controls",
            "_model_module_version": "1.5.0",
            "_model_name": "DescriptionStyleModel",
            "_view_count": null,
            "_view_module": "@jupyter-widgets/base",
            "_view_module_version": "1.2.0",
            "_view_name": "StyleView",
            "description_width": ""
          }
        }
      }
    }
  },
  "nbformat": 4,
  "nbformat_minor": 0
}
